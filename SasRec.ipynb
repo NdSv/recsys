{
 "cells": [
  {
   "cell_type": "code",
   "execution_count": 1,
   "id": "fc61b95a",
   "metadata": {},
   "outputs": [],
   "source": [
    "import torch.nn as nn\n",
    "from torchmetrics.functional import retrieval_normalized_dcg\n",
    "from sklearn.metrics import ndcg_score\n",
    "import numpy as np\n",
    "import torch\n",
    "import requests\n",
    "from dataclasses import dataclass\n",
    "from collections import defaultdict\n",
    "import random\n",
    "import numpy as np\n",
    "import pandas as pd\n",
    "from tqdm.notebook import tqdm\n",
    "from matplotlib import pyplot as plt\n",
    "\n",
    "import sys\n",
    "sys.path.append('BERT4Rec-VAE-Pytorch')\n",
    "\n",
    "from models.bert import BERTModel\n",
    "from models.bert_modules.bert import BERT\n",
    "\n",
    "import warnings\n",
    "warnings.filterwarnings(\"ignore\")"
   ]
  },
  {
   "cell_type": "markdown",
   "id": "1c31eb8e",
   "metadata": {},
   "source": [
    "### Service functions"
   ]
  },
  {
   "cell_type": "code",
   "execution_count": 23,
   "id": "50d527e9",
   "metadata": {},
   "outputs": [],
   "source": [
    "def equalize_seq(seq, max_length, end_code):\n",
    "  \n",
    "  if len(seq) >= max_length:\n",
    "    return seq[:max_length]\n",
    "  else:\n",
    "    return (max_length - len(seq)) * [end_code] + seq\n",
    "\n",
    "\n",
    "def recall_k(y_pred, y_true, k=10):\n",
    "    \n",
    "    top_k = torch.topk(y_pred, k).indices.tolist()\n",
    "    result = [el[0] in el[1] for el in zip(y_true.tolist(), top_k)]\n",
    "    \n",
    "    return np.mean(result)\n",
    "\n",
    "\n",
    "def ndcg_k(y_pred, y_true, k=10):\n",
    "    \n",
    "    top_k = torch.topk(y_pred, k).indices.tolist()\n",
    "    results = []\n",
    "    for true_label, preds in zip(y_true.tolist(), top_k):\n",
    "        tl = [[el == true_label for el in preds]]\n",
    "        preds = [[1 for _ in preds]]\n",
    "        results.append(ndcg_score(tl, preds))\n",
    "    \n",
    "    return np.mean(results)\n",
    "\n",
    "\n",
    "def ndcg_k_seq(y_pred_seq, y_true_seq, k=10):\n",
    "    recs = []\n",
    "    for y_pred, y_true in zip(y_pred_seq, y_true_seq):\n",
    "        recs.append(ndcg_k(y_pred, y_true, k))\n",
    "    return np.mean(recs)\n",
    "\n",
    "\n",
    "def recall_k_seq(y_pred_seq, y_true_seq, k=10):\n",
    "    recs = []\n",
    "    for y_pred, y_true in zip(y_pred_seq, y_true_seq):\n",
    "        recs.append(recall_k(y_pred, y_true, k))\n",
    "    return np.mean(recs)\n",
    "\n",
    "\n",
    "\n",
    "\n",
    "def recall_k_seq_last(y_pred_seq, y_true_seq, k=10):\n",
    "    recs = []\n",
    "    for y_pred, y_true in zip(y_pred_seq, y_true_seq):\n",
    "        recs.append(recall_k(y_pred, y_true, k))\n",
    "    return recs[-1]\n",
    "\n",
    "\n",
    "def ndcg_k_seq_last(y_pred_seq, y_true_seq, k=10):\n",
    "    recs = []\n",
    "    for y_pred, y_true in zip(y_pred_seq, y_true_seq):\n",
    "        recs.append(ndcg_k(y_pred, y_true, k))\n",
    "    return recs[-1]"
   ]
  },
  {
   "cell_type": "code",
   "execution_count": 3,
   "id": "38f18f09",
   "metadata": {},
   "outputs": [],
   "source": [
    "device = \"cuda:0\""
   ]
  },
  {
   "cell_type": "markdown",
   "id": "7f4a1d41",
   "metadata": {},
   "source": [
    "### Load data"
   ]
  },
  {
   "cell_type": "code",
   "execution_count": 4,
   "id": "3e92e053",
   "metadata": {},
   "outputs": [],
   "source": [
    "data = (pd.read_csv('ml-1m/ratings.dat', \n",
    "                    sep='::',\n",
    "                    header=None,\n",
    "                    index_col=0,\n",
    "                    names=['user_id', 'movie_id', 'rating', 'ts'], \n",
    "                    engine='python')\n",
    "          .reset_index(drop=False)\n",
    "       )\n",
    "\n",
    "sequences = data.sort_values(by=['user_id', 'ts']).groupby('user_id')['movie_id'].agg(lambda x: list(x)).to_dict()\n",
    "sequences = {u: s for u, s in sequences.items() if len(s) > 0}\n",
    "\n",
    "mask_code = 0\n",
    "max_length = 100\n",
    "end_code = data['movie_id'].max() + 1"
   ]
  },
  {
   "cell_type": "markdown",
   "id": "a24c339e",
   "metadata": {},
   "source": [
    "### Train / Valid / Test Split"
   ]
  },
  {
   "cell_type": "code",
   "execution_count": 5,
   "id": "264d37f1",
   "metadata": {},
   "outputs": [],
   "source": [
    "train = defaultdict(list)\n",
    "val = {}\n",
    "test = {}\n",
    "\n",
    "for user, sequence in sequences.items():\n",
    "\n",
    "    train[user] = equalize_seq(sequence[:-1], max_length=max_length, end_code=end_code)\n",
    "\n",
    "    if np.random.choice([0, 1]):\n",
    "        val[user] = equalize_seq(sequence, max_length=max_length, end_code=end_code)\n",
    "      \n",
    "    else:\n",
    "        test[user] = equalize_seq(sequence, max_length=max_length, end_code=end_code)\n",
    "\n",
    "test_indexes = np.array(test.keys())\n",
    "val_indexes = np.array(val.keys())"
   ]
  },
  {
   "cell_type": "markdown",
   "id": "9c87a7c2",
   "metadata": {},
   "source": [
    "### Define Model"
   ]
  },
  {
   "cell_type": "code",
   "execution_count": 6,
   "id": "69104f91",
   "metadata": {},
   "outputs": [],
   "source": [
    "@dataclass\n",
    "class BertConf:\n",
    "    bert_max_len: int\n",
    "    num_items: int\n",
    "    bert_num_blocks: int\n",
    "    bert_num_heads: int\n",
    "    bert_hidden_units: int\n",
    "    bert_dropout: float = 0.1\n",
    "    model_init_seed: int = 42\n",
    "\n",
    "conf = BertConf(bert_max_len=max_length, \n",
    "                num_items=end_code + 1, \n",
    "                bert_num_blocks=2, \n",
    "                bert_num_heads=2, \n",
    "                bert_hidden_units=100)\n",
    "\n",
    "model = BERTModel(conf).to(device)"
   ]
  },
  {
   "cell_type": "code",
   "execution_count": 7,
   "id": "e275df1e",
   "metadata": {},
   "outputs": [],
   "source": [
    "import sys\n",
    "sys.path.append('BERT4Rec-VAE-Pytorch')\n",
    "\n",
    "from models.bert import BERTModel\n",
    "from models.bert_modules.bert import BERT\n",
    "\n",
    "from torch import nn as nn\n",
    "\n",
    "from models.bert_modules.embedding import BERTEmbedding\n",
    "from models.bert_modules.transformer import TransformerBlock\n",
    "from utils import fix_random_seed_as\n",
    "from models.base import BaseModel\n",
    "\n",
    "import torch.nn as nn\n",
    "\n",
    "\n",
    "class SasRec(nn.Module):\n",
    "    def __init__(self, args):\n",
    "        super().__init__()\n",
    "\n",
    "        fix_random_seed_as(args.model_init_seed)\n",
    "\n",
    "        max_len = args.bert_max_len\n",
    "        num_items = args.num_items\n",
    "        n_layers = args.bert_num_blocks\n",
    "        heads = args.bert_num_heads\n",
    "        vocab_size = num_items + 2\n",
    "        hidden = args.bert_hidden_units\n",
    "        self.hidden = hidden\n",
    "        dropout = args.bert_dropout\n",
    "\n",
    "        # embedding for BERT, sum of positional, segment, token embeddings\n",
    "        self.embedding = BERTEmbedding(vocab_size=vocab_size, embed_size=self.hidden, max_len=max_len, dropout=dropout)\n",
    "\n",
    "        # multi-layers transformer blocks, deep network\n",
    "        self.transformer_blocks = nn.ModuleList(\n",
    "            [TransformerBlock(hidden, heads, hidden * 4, dropout) for _ in range(n_layers)])\n",
    "\n",
    "    def forward(self, x):\n",
    "      \n",
    "        # mask = (x > 0).unsqueeze(1).repeat(1, x.size(1), 1).unsqueeze(1)\n",
    "        mask = torch.ones(x.size()[1], x.size()[1])\n",
    "        mask = torch.tril(mask).unsqueeze(0).unsqueeze(1).repeat(x.size()[0], 1, 1, 1).to(device)\n",
    "\n",
    "        # embedding the indexed sequence to sequence of vectors\n",
    "        x = self.embedding(x.to(device))\n",
    "\n",
    "        # running over multiple transformer blocks\n",
    "        for transformer in self.transformer_blocks:\n",
    "            x = transformer.forward(x, mask)\n",
    "\n",
    "        return x\n",
    "\n",
    "    def init_weights(self):\n",
    "        pass\n",
    "\n",
    "\n",
    "class SasRecModel(BaseModel):\n",
    "    def __init__(self, args):\n",
    "        super().__init__(args)\n",
    "        self.sasrec = SasRec(args)\n",
    "        self.out = nn.Linear(self.sasrec.hidden, args.num_items + 1)\n",
    "\n",
    "    @classmethod\n",
    "    def code(cls):\n",
    "        return 'sasrec'\n",
    "\n",
    "    def forward(self, x):\n",
    "        x = self.sasrec(x)\n",
    "        return self.out(x)"
   ]
  },
  {
   "cell_type": "code",
   "execution_count": 8,
   "id": "6c0c3dbc",
   "metadata": {},
   "outputs": [],
   "source": [
    "@dataclass\n",
    "class SasRecConf:\n",
    "    bert_max_len: int\n",
    "    num_items: int\n",
    "    bert_num_blocks: int\n",
    "    bert_num_heads: int\n",
    "    bert_hidden_units: int\n",
    "    bert_dropout: float = 0.1\n",
    "    model_init_seed: int = 42\n",
    "\n",
    "conf = SasRecConf(bert_max_len=max_length, \n",
    "                  num_items=end_code + 1, \n",
    "                  bert_num_blocks=2, \n",
    "                  bert_num_heads=2, \n",
    "                  bert_hidden_units=100)\n",
    "\n",
    "model = SasRecModel(conf).to(device)"
   ]
  },
  {
   "cell_type": "markdown",
   "id": "a0526ece",
   "metadata": {},
   "source": [
    "### Define Dataloader"
   ]
  },
  {
   "cell_type": "code",
   "execution_count": 9,
   "id": "60bf38de",
   "metadata": {},
   "outputs": [],
   "source": [
    "import torch\n",
    "from torch.utils.data import Dataset, DataLoader\n",
    "\n",
    "class TrainShiftedDataset(Dataset):\n",
    "    def __init__(self, data, max_length, end_code=-1):\n",
    "        self.data = data\n",
    "        self.max_length = max_length\n",
    "        self.end_code = end_code\n",
    "\n",
    "    def __len__(self):\n",
    "        return len(self.data)\n",
    "\n",
    "    def __getitem__(self, index):\n",
    "\n",
    "        sample = self.data[index]\n",
    "\n",
    "        # Select random end of sequence\n",
    "        idx = np.random.randint(len(sample))\n",
    "\n",
    "        # Equalize sequence\n",
    "        seq = equalize_seq(sample[:idx], self.max_length, self.end_code)\n",
    "        seq = torch.tensor(seq)\n",
    "\n",
    "        # Create X and y\n",
    "        X = seq[:-1]\n",
    "        y = seq[1:]\n",
    "#         print(X.shape)\n",
    "#         print(y.shape)\n",
    "\n",
    "        return X, y\n",
    "    \n",
    "\n",
    "class ValidShiftedDataset(Dataset):\n",
    "    def __init__(self, data, max_length, end_code=-1):\n",
    "        self.data = data\n",
    "        self.max_length = max_length\n",
    "        self.end_code = end_code\n",
    "\n",
    "    def __len__(self):\n",
    "        return len(self.data)\n",
    "\n",
    "    def __getitem__(self, index):\n",
    "\n",
    "        sample = self.data[index]\n",
    "        seq = equalize_seq(sample, self.max_length, self.end_code)\n",
    "        seq = torch.tensor(seq)\n",
    "\n",
    "        X = seq[:-1]\n",
    "        y = seq[1:]\n",
    "\n",
    "        return X, y"
   ]
  },
  {
   "cell_type": "code",
   "execution_count": 12,
   "id": "2a46a93f",
   "metadata": {},
   "outputs": [],
   "source": [
    "from tqdm import tqdm_notebook"
   ]
  },
  {
   "cell_type": "markdown",
   "id": "238ca798",
   "metadata": {},
   "source": [
    "### Train Model"
   ]
  },
  {
   "cell_type": "code",
   "execution_count": 14,
   "id": "d61ac1ca",
   "metadata": {
    "scrolled": true
   },
   "outputs": [
    {
     "data": {
      "application/vnd.jupyter.widget-view+json": {
       "model_id": "4cb59d6c8b7244f49a0926dad713ff59",
       "version_major": 2,
       "version_minor": 0
      },
      "text/plain": [
       "  0%|          | 0/12 [00:00<?, ?it/s]"
      ]
     },
     "metadata": {},
     "output_type": "display_data"
    },
    {
     "name": "stdout",
     "output_type": "stream",
     "text": [
      "Epoch:  500\n",
      "Recall@10:  0.169\n",
      "NDCG:  0.077\n",
      "Train Loss:  5.4897\n",
      "Val Loss:  [5.6823 5.6948 5.7649 5.7182 5.7164 5.788  5.6832 5.6989 5.7924 5.724\n",
      " 5.7121 5.6932]\n"
     ]
    },
    {
     "data": {
      "application/vnd.jupyter.widget-view+json": {
       "model_id": "c99c6f72cf8a4dd59e96c1ec688d3459",
       "version_major": 2,
       "version_minor": 0
      },
      "text/plain": [
       "  0%|          | 0/12 [00:00<?, ?it/s]"
      ]
     },
     "metadata": {},
     "output_type": "display_data"
    },
    {
     "name": "stdout",
     "output_type": "stream",
     "text": [
      "Epoch:  1000\n",
      "Recall@10:  0.189\n",
      "NDCG:  0.086\n",
      "Train Loss:  5.3343\n",
      "Val Loss:  [5.4845 5.4495 5.5367 5.587  5.5898 5.5735 5.4799 5.5981 5.5637 5.4716\n",
      " 5.5179 5.6268]\n"
     ]
    },
    {
     "data": {
      "application/vnd.jupyter.widget-view+json": {
       "model_id": "20b708e10da24bd0bf765309cf300b66",
       "version_major": 2,
       "version_minor": 0
      },
      "text/plain": [
       "  0%|          | 0/12 [00:00<?, ?it/s]"
      ]
     },
     "metadata": {},
     "output_type": "display_data"
    },
    {
     "name": "stdout",
     "output_type": "stream",
     "text": [
      "Epoch:  1500\n",
      "Recall@10:  0.203\n",
      "NDCG:  0.092\n",
      "Train Loss:  5.1366\n",
      "Val Loss:  [5.512  5.4752 5.4091 5.4089 5.3941 5.4028 5.4111 5.4688 5.4429 5.3817\n",
      " 5.4344 5.3489]\n"
     ]
    },
    {
     "data": {
      "application/vnd.jupyter.widget-view+json": {
       "model_id": "c02d57e60f614b3096c8930ccf89e476",
       "version_major": 2,
       "version_minor": 0
      },
      "text/plain": [
       "  0%|          | 0/12 [00:00<?, ?it/s]"
      ]
     },
     "metadata": {},
     "output_type": "display_data"
    },
    {
     "name": "stdout",
     "output_type": "stream",
     "text": [
      "Epoch:  2000\n",
      "Recall@10:  0.212\n",
      "NDCG:  0.096\n",
      "Train Loss:  5.0152\n",
      "Val Loss:  [5.2607 5.3569 5.3261 5.4046 5.4737 5.3316 5.3685 5.3659 5.4077 5.3047\n",
      " 5.2601 5.3829]\n"
     ]
    },
    {
     "data": {
      "application/vnd.jupyter.widget-view+json": {
       "model_id": "c61a838dfa954ee6a966106818b31337",
       "version_major": 2,
       "version_minor": 0
      },
      "text/plain": [
       "  0%|          | 0/12 [00:00<?, ?it/s]"
      ]
     },
     "metadata": {},
     "output_type": "display_data"
    },
    {
     "name": "stdout",
     "output_type": "stream",
     "text": [
      "Epoch:  2500\n",
      "Recall@10:  0.22\n",
      "NDCG:  0.1\n",
      "Train Loss:  5.0842\n",
      "Val Loss:  [5.3008 5.3149 5.2988 5.2708 5.2848 5.3755 5.2716 5.2223 5.3279 5.1836\n",
      " 5.3938 5.2579]\n"
     ]
    },
    {
     "data": {
      "application/vnd.jupyter.widget-view+json": {
       "model_id": "71911a269c2745448e0ed6eb2154fdf2",
       "version_major": 2,
       "version_minor": 0
      },
      "text/plain": [
       "  0%|          | 0/12 [00:00<?, ?it/s]"
      ]
     },
     "metadata": {},
     "output_type": "display_data"
    },
    {
     "name": "stdout",
     "output_type": "stream",
     "text": [
      "Epoch:  3000\n",
      "Recall@10:  0.226\n",
      "NDCG:  0.103\n",
      "Train Loss:  4.9496\n",
      "Val Loss:  [5.2408 5.2459 5.2908 5.2852 5.1338 5.2913 5.2179 5.3101 5.202  5.3004\n",
      " 5.1814 5.2224]\n"
     ]
    },
    {
     "data": {
      "application/vnd.jupyter.widget-view+json": {
       "model_id": "a4baa37a745841dcb0fc423a0a76c793",
       "version_major": 2,
       "version_minor": 0
      },
      "text/plain": [
       "  0%|          | 0/12 [00:00<?, ?it/s]"
      ]
     },
     "metadata": {},
     "output_type": "display_data"
    },
    {
     "name": "stdout",
     "output_type": "stream",
     "text": [
      "Epoch:  3500\n",
      "Recall@10:  0.232\n",
      "NDCG:  0.105\n",
      "Train Loss:  4.888\n",
      "Val Loss:  [5.3201 5.1869 5.2258 5.2111 5.2262 5.1649 5.1241 5.1376 5.204  5.1697\n",
      " 5.2864 5.1586]\n"
     ]
    },
    {
     "data": {
      "application/vnd.jupyter.widget-view+json": {
       "model_id": "3847f0481aaf48a694dd35cb1b0e41df",
       "version_major": 2,
       "version_minor": 0
      },
      "text/plain": [
       "  0%|          | 0/12 [00:00<?, ?it/s]"
      ]
     },
     "metadata": {},
     "output_type": "display_data"
    },
    {
     "name": "stdout",
     "output_type": "stream",
     "text": [
      "Epoch:  4000\n",
      "Recall@10:  0.237\n",
      "NDCG:  0.108\n",
      "Train Loss:  4.7493\n",
      "Val Loss:  [5.1213 5.2627 5.1333 5.1804 5.0734 5.1795 5.1596 5.1817 5.1267 5.1925\n",
      " 5.2073 5.189 ]\n"
     ]
    },
    {
     "data": {
      "application/vnd.jupyter.widget-view+json": {
       "model_id": "c345febf5ecd467aac1b7ba14cd73a23",
       "version_major": 2,
       "version_minor": 0
      },
      "text/plain": [
       "  0%|          | 0/12 [00:00<?, ?it/s]"
      ]
     },
     "metadata": {},
     "output_type": "display_data"
    },
    {
     "name": "stdout",
     "output_type": "stream",
     "text": [
      "Epoch:  4500\n",
      "Recall@10:  0.241\n",
      "NDCG:  0.109\n",
      "Train Loss:  4.8426\n",
      "Val Loss:  [5.1544 5.1796 5.1183 5.179  5.1604 5.1799 5.1906 5.1814 5.1438 5.0755\n",
      " 5.1286 4.9739]\n"
     ]
    },
    {
     "data": {
      "application/vnd.jupyter.widget-view+json": {
       "model_id": "855ad94228534b53a9c9d69e509e007e",
       "version_major": 2,
       "version_minor": 0
      },
      "text/plain": [
       "  0%|          | 0/12 [00:00<?, ?it/s]"
      ]
     },
     "metadata": {},
     "output_type": "display_data"
    },
    {
     "name": "stdout",
     "output_type": "stream",
     "text": [
      "Epoch:  5000\n",
      "Recall@10:  0.243\n",
      "NDCG:  0.111\n",
      "Train Loss:  4.6569\n",
      "Val Loss:  [5.1409 5.1137 5.158  5.0675 5.0806 5.0617 5.1467 5.1542 5.0832 5.1057\n",
      " 5.1465 5.1131]\n"
     ]
    },
    {
     "data": {
      "application/vnd.jupyter.widget-view+json": {
       "model_id": "d07963b317894b54ae9b37c2162ac9f6",
       "version_major": 2,
       "version_minor": 0
      },
      "text/plain": [
       "  0%|          | 0/12 [00:00<?, ?it/s]"
      ]
     },
     "metadata": {},
     "output_type": "display_data"
    },
    {
     "name": "stdout",
     "output_type": "stream",
     "text": [
      "Epoch:  5500\n",
      "Recall@10:  0.248\n",
      "NDCG:  0.112\n",
      "Train Loss:  4.6456\n",
      "Val Loss:  [5.0725 5.0854 5.0128 5.0967 5.1632 5.086  5.0786 5.0895 5.1276 5.1572\n",
      " 5.0971 5.0124]\n"
     ]
    },
    {
     "data": {
      "application/vnd.jupyter.widget-view+json": {
       "model_id": "8e6494346f664bcd894cf9916e79e903",
       "version_major": 2,
       "version_minor": 0
      },
      "text/plain": [
       "  0%|          | 0/12 [00:00<?, ?it/s]"
      ]
     },
     "metadata": {},
     "output_type": "display_data"
    },
    {
     "name": "stdout",
     "output_type": "stream",
     "text": [
      "Epoch:  6000\n",
      "Recall@10:  0.25\n",
      "NDCG:  0.114\n",
      "Train Loss:  4.7972\n",
      "Val Loss:  [5.1041 5.0858 5.0036 5.0781 5.0364 5.0265 5.005  5.1779 5.0946 4.9863\n",
      " 5.1776 5.0589]\n"
     ]
    },
    {
     "data": {
      "application/vnd.jupyter.widget-view+json": {
       "model_id": "20d9c50b0a3f403aa5a12276f7900f1a",
       "version_major": 2,
       "version_minor": 0
      },
      "text/plain": [
       "  0%|          | 0/12 [00:00<?, ?it/s]"
      ]
     },
     "metadata": {},
     "output_type": "display_data"
    },
    {
     "name": "stdout",
     "output_type": "stream",
     "text": [
      "Epoch:  6500\n",
      "Recall@10:  0.254\n",
      "NDCG:  0.115\n",
      "Train Loss:  4.6798\n",
      "Val Loss:  [5.0778 4.9811 5.0987 5.0022 5.0354 5.0832 5.0325 5.0613 5.1196 5.0767\n",
      " 5.0219 4.9223]\n",
      "Epoch:  7000\n",
      "Recall@10:  0.256\n",
      "NDCG:  0.116\n",
      "Train Loss:  4.6516\n",
      "Val Loss:  [4.9877 5.0043 5.0512 5.0795 5.0276 5.0339 5.025  5.0585 5.0433 5.0033\n",
      " 5.0449 4.9358]\n"
     ]
    },
    {
     "data": {
      "application/vnd.jupyter.widget-view+json": {
       "model_id": "ab3fb13b56ce49ec9f5234e6401eabd3",
       "version_major": 2,
       "version_minor": 0
      },
      "text/plain": [
       "  0%|          | 0/12 [00:00<?, ?it/s]"
      ]
     },
     "metadata": {},
     "output_type": "display_data"
    },
    {
     "name": "stdout",
     "output_type": "stream",
     "text": [
      "Epoch:  7500\n",
      "Recall@10:  0.258\n",
      "NDCG:  0.117\n",
      "Train Loss:  4.6424\n",
      "Val Loss:  [5.0076 5.0696 5.0139 4.8889 5.0829 5.1198 5.0863 4.9648 4.9296 5.0021\n",
      " 4.9413 5.1374]\n"
     ]
    },
    {
     "data": {
      "application/vnd.jupyter.widget-view+json": {
       "model_id": "daef8d65a33e43cd8e71f334f335380f",
       "version_major": 2,
       "version_minor": 0
      },
      "text/plain": [
       "  0%|          | 0/12 [00:00<?, ?it/s]"
      ]
     },
     "metadata": {},
     "output_type": "display_data"
    },
    {
     "name": "stdout",
     "output_type": "stream",
     "text": [
      "Epoch:  8000\n",
      "Recall@10:  0.26\n",
      "NDCG:  0.118\n",
      "Train Loss:  4.5278\n",
      "Val Loss:  [4.9772 5.0092 4.9122 4.9753 5.0041 5.0355 4.9444 5.0606 5.0003 5.034\n",
      " 4.9797 5.0428]\n"
     ]
    },
    {
     "data": {
      "application/vnd.jupyter.widget-view+json": {
       "model_id": "6d5e2d30c38e4f36aaff8c0e6b8c369a",
       "version_major": 2,
       "version_minor": 0
      },
      "text/plain": [
       "  0%|          | 0/12 [00:00<?, ?it/s]"
      ]
     },
     "metadata": {},
     "output_type": "display_data"
    },
    {
     "name": "stdout",
     "output_type": "stream",
     "text": [
      "Epoch:  8500\n",
      "Recall@10:  0.263\n",
      "NDCG:  0.119\n",
      "Train Loss:  4.5764\n",
      "Val Loss:  [5.038  4.9812 4.9731 4.9635 5.0284 5.     5.0036 4.9697 4.9238 4.9574\n",
      " 5.0102 4.8958]\n"
     ]
    },
    {
     "data": {
      "application/vnd.jupyter.widget-view+json": {
       "model_id": "4dc0a6de80844a778507086a97960e10",
       "version_major": 2,
       "version_minor": 0
      },
      "text/plain": [
       "  0%|          | 0/12 [00:00<?, ?it/s]"
      ]
     },
     "metadata": {},
     "output_type": "display_data"
    },
    {
     "name": "stdout",
     "output_type": "stream",
     "text": [
      "Epoch:  9000\n",
      "Recall@10:  0.265\n",
      "NDCG:  0.12\n",
      "Train Loss:  4.5412\n",
      "Val Loss:  [4.9232 5.0342 4.9433 4.9493 4.9867 4.9932 4.8834 5.0046 4.9755 4.9659\n",
      " 4.9821 5.016 ]\n"
     ]
    },
    {
     "data": {
      "application/vnd.jupyter.widget-view+json": {
       "model_id": "bff671ae25bc4420b4f8e57ada85fd37",
       "version_major": 2,
       "version_minor": 0
      },
      "text/plain": [
       "  0%|          | 0/12 [00:00<?, ?it/s]"
      ]
     },
     "metadata": {},
     "output_type": "display_data"
    },
    {
     "name": "stdout",
     "output_type": "stream",
     "text": [
      "Epoch:  9500\n",
      "Recall@10:  0.267\n",
      "NDCG:  0.121\n",
      "Train Loss:  4.526\n",
      "Val Loss:  [4.9624 4.9493 5.0116 5.021  4.9804 4.9484 4.9151 4.9992 4.9517 4.9282\n",
      " 4.9157 4.9031]\n"
     ]
    },
    {
     "data": {
      "application/vnd.jupyter.widget-view+json": {
       "model_id": "f26e77a5e43a4c5ea12166794a73d2f1",
       "version_major": 2,
       "version_minor": 0
      },
      "text/plain": [
       "  0%|          | 0/12 [00:00<?, ?it/s]"
      ]
     },
     "metadata": {},
     "output_type": "display_data"
    },
    {
     "name": "stdout",
     "output_type": "stream",
     "text": [
      "Epoch:  10000\n",
      "Recall@10:  0.267\n",
      "NDCG:  0.121\n",
      "Train Loss:  4.6133\n",
      "Val Loss:  [4.9702 4.9902 4.9069 4.9655 4.8899 4.9152 4.9775 4.9818 4.9138 4.9794\n",
      " 4.946  5.001 ]\n"
     ]
    },
    {
     "data": {
      "application/vnd.jupyter.widget-view+json": {
       "model_id": "32bec67da5fc430da5118da47e7793ee",
       "version_major": 2,
       "version_minor": 0
      },
      "text/plain": [
       "  0%|          | 0/12 [00:00<?, ?it/s]"
      ]
     },
     "metadata": {},
     "output_type": "display_data"
    },
    {
     "name": "stdout",
     "output_type": "stream",
     "text": [
      "Epoch:  10500\n",
      "Recall@10:  0.269\n",
      "NDCG:  0.122\n",
      "Train Loss:  4.5834\n",
      "Val Loss:  [4.971  4.9943 4.9499 4.8538 4.852  4.956  4.9349 4.9964 4.9312 4.9485\n",
      " 4.9397 4.9528]\n"
     ]
    },
    {
     "data": {
      "application/vnd.jupyter.widget-view+json": {
       "model_id": "a30797d9bfde45f380238da3c2ebc3fb",
       "version_major": 2,
       "version_minor": 0
      },
      "text/plain": [
       "  0%|          | 0/12 [00:00<?, ?it/s]"
      ]
     },
     "metadata": {},
     "output_type": "display_data"
    },
    {
     "name": "stdout",
     "output_type": "stream",
     "text": [
      "Epoch:  11000\n",
      "Recall@10:  0.271\n",
      "NDCG:  0.123\n",
      "Train Loss:  4.5052\n",
      "Val Loss:  [4.9278 4.8876 5.0306 4.9316 4.9275 4.9166 4.9151 4.9046 4.9164 5.0188\n",
      " 4.9069 4.8825]\n"
     ]
    },
    {
     "data": {
      "application/vnd.jupyter.widget-view+json": {
       "model_id": "4356c4c2b23345b4938b06448c825d48",
       "version_major": 2,
       "version_minor": 0
      },
      "text/plain": [
       "  0%|          | 0/12 [00:00<?, ?it/s]"
      ]
     },
     "metadata": {},
     "output_type": "display_data"
    },
    {
     "name": "stdout",
     "output_type": "stream",
     "text": [
      "Epoch:  11500\n",
      "Recall@10:  0.272\n",
      "NDCG:  0.124\n",
      "Train Loss:  4.4948\n",
      "Val Loss:  [4.9496 4.8921 4.9024 4.9637 4.9109 4.8556 4.8885 5.0195 4.89   4.9092\n",
      " 5.013  4.8539]\n"
     ]
    },
    {
     "data": {
      "application/vnd.jupyter.widget-view+json": {
       "model_id": "c56b13cc693849aba0015c3448e8c586",
       "version_major": 2,
       "version_minor": 0
      },
      "text/plain": [
       "  0%|          | 0/12 [00:00<?, ?it/s]"
      ]
     },
     "metadata": {},
     "output_type": "display_data"
    },
    {
     "name": "stdout",
     "output_type": "stream",
     "text": [
      "Epoch:  12000\n",
      "Recall@10:  0.274\n",
      "NDCG:  0.124\n",
      "Train Loss:  4.4464\n",
      "Val Loss:  [5.0429 4.7943 4.9051 4.9489 4.9199 4.8395 4.9377 4.9103 4.9325 4.9352\n",
      " 4.8928 4.8845]\n"
     ]
    },
    {
     "data": {
      "application/vnd.jupyter.widget-view+json": {
       "model_id": "2b6522d00b8944d6a3a39fd6d219d4fd",
       "version_major": 2,
       "version_minor": 0
      },
      "text/plain": [
       "  0%|          | 0/12 [00:00<?, ?it/s]"
      ]
     },
     "metadata": {},
     "output_type": "display_data"
    },
    {
     "name": "stdout",
     "output_type": "stream",
     "text": [
      "Epoch:  12500\n",
      "Recall@10:  0.274\n",
      "NDCG:  0.124\n",
      "Train Loss:  4.3509\n",
      "Val Loss:  [4.9344 4.7507 4.8631 4.8895 4.905  4.9606 4.9065 5.0008 4.8944 4.8667\n",
      " 5.0386 4.9192]\n"
     ]
    },
    {
     "data": {
      "application/vnd.jupyter.widget-view+json": {
       "model_id": "3313b04fcb46452da771ac1814a98b83",
       "version_major": 2,
       "version_minor": 0
      },
      "text/plain": [
       "  0%|          | 0/12 [00:00<?, ?it/s]"
      ]
     },
     "metadata": {},
     "output_type": "display_data"
    },
    {
     "name": "stdout",
     "output_type": "stream",
     "text": [
      "Epoch:  13000\n",
      "Recall@10:  0.275\n",
      "NDCG:  0.125\n",
      "Train Loss:  4.4072\n",
      "Val Loss:  [4.9413 4.9111 4.9335 4.8235 4.9233 4.9037 4.8661 4.9068 4.8925 4.9584\n",
      " 4.8307 4.8892]\n"
     ]
    },
    {
     "data": {
      "application/vnd.jupyter.widget-view+json": {
       "model_id": "941c64bc056546f5b599c0aefc4e0b1b",
       "version_major": 2,
       "version_minor": 0
      },
      "text/plain": [
       "  0%|          | 0/12 [00:00<?, ?it/s]"
      ]
     },
     "metadata": {},
     "output_type": "display_data"
    },
    {
     "name": "stdout",
     "output_type": "stream",
     "text": [
      "Epoch:  13500\n",
      "Recall@10:  0.277\n",
      "NDCG:  0.126\n",
      "Train Loss:  4.4485\n",
      "Val Loss:  [4.9063 4.8802 4.8807 4.897  4.8784 4.9296 4.9553 4.8858 4.8444 4.9335\n",
      " 4.8807 4.8559]\n"
     ]
    },
    {
     "data": {
      "application/vnd.jupyter.widget-view+json": {
       "model_id": "1b2fd4bc3da84782bec406c8e5907909",
       "version_major": 2,
       "version_minor": 0
      },
      "text/plain": [
       "  0%|          | 0/12 [00:00<?, ?it/s]"
      ]
     },
     "metadata": {},
     "output_type": "display_data"
    },
    {
     "name": "stdout",
     "output_type": "stream",
     "text": [
      "Epoch:  14000\n",
      "Recall@10:  0.277\n",
      "NDCG:  0.126\n",
      "Train Loss:  4.388\n",
      "Val Loss:  [4.9066 4.8936 4.831  4.8931 4.8709 4.8714 4.8593 4.9197 4.9235 4.8949\n",
      " 4.8246 4.9474]\n",
      "Epoch:  14500\n",
      "Recall@10:  0.279\n",
      "NDCG:  0.127\n",
      "Train Loss:  4.3016\n",
      "Val Loss:  [4.8866 4.9787 4.8553 4.8679 4.9499 4.8383 4.8104 4.922  4.8352 4.9496\n",
      " 4.8792 4.74  ]\n"
     ]
    },
    {
     "data": {
      "application/vnd.jupyter.widget-view+json": {
       "model_id": "dbf45b4609774206afe8ebb9bf24205f",
       "version_major": 2,
       "version_minor": 0
      },
      "text/plain": [
       "  0%|          | 0/12 [00:00<?, ?it/s]"
      ]
     },
     "metadata": {},
     "output_type": "display_data"
    },
    {
     "name": "stdout",
     "output_type": "stream",
     "text": [
      "Epoch:  15000\n",
      "Recall@10:  0.278\n",
      "NDCG:  0.126\n",
      "Train Loss:  4.321\n",
      "Val Loss:  [4.8904 4.886  4.7859 4.9191 4.8632 4.8724 4.8426 4.8602 4.8368 4.9444\n",
      " 4.9217 4.9416]\n"
     ]
    },
    {
     "data": {
      "application/vnd.jupyter.widget-view+json": {
       "model_id": "c070ba5c9d73450b9e3ef7ad9e3fc165",
       "version_major": 2,
       "version_minor": 0
      },
      "text/plain": [
       "  0%|          | 0/12 [00:00<?, ?it/s]"
      ]
     },
     "metadata": {},
     "output_type": "display_data"
    },
    {
     "name": "stdout",
     "output_type": "stream",
     "text": [
      "Epoch:  15500\n",
      "Recall@10:  0.28\n",
      "NDCG:  0.127\n",
      "Train Loss:  4.2738\n",
      "Val Loss:  [4.9345 4.8818 4.8846 4.8489 4.9127 4.8553 4.8769 4.7927 4.8664 4.9628\n",
      " 4.7952 4.858 ]\n"
     ]
    },
    {
     "data": {
      "application/vnd.jupyter.widget-view+json": {
       "model_id": "ea8c1e0ed71440e9a607417a675032d5",
       "version_major": 2,
       "version_minor": 0
      },
      "text/plain": [
       "  0%|          | 0/12 [00:00<?, ?it/s]"
      ]
     },
     "metadata": {},
     "output_type": "display_data"
    },
    {
     "name": "stdout",
     "output_type": "stream",
     "text": [
      "Epoch:  16000\n",
      "Recall@10:  0.281\n",
      "NDCG:  0.128\n",
      "Train Loss:  4.2535\n",
      "Val Loss:  [4.86   4.8725 4.8781 4.8236 4.8594 4.8316 4.9235 4.8613 4.8485 4.8341\n",
      " 4.8398 4.9236]\n"
     ]
    },
    {
     "data": {
      "application/vnd.jupyter.widget-view+json": {
       "model_id": "1cbeb8a4c2134c13b3b4bb2abada3aae",
       "version_major": 2,
       "version_minor": 0
      },
      "text/plain": [
       "  0%|          | 0/12 [00:00<?, ?it/s]"
      ]
     },
     "metadata": {},
     "output_type": "display_data"
    },
    {
     "name": "stdout",
     "output_type": "stream",
     "text": [
      "Epoch:  16500\n",
      "Recall@10:  0.281\n",
      "NDCG:  0.128\n",
      "Train Loss:  4.2517\n",
      "Val Loss:  [4.8318 4.8894 4.8792 4.8015 4.7574 4.8527 4.8609 4.8449 4.9351 4.8414\n",
      " 4.887  4.94  ]\n"
     ]
    },
    {
     "data": {
      "application/vnd.jupyter.widget-view+json": {
       "model_id": "2713cee25f8845eeb4cffbeb83dbd08e",
       "version_major": 2,
       "version_minor": 0
      },
      "text/plain": [
       "  0%|          | 0/12 [00:00<?, ?it/s]"
      ]
     },
     "metadata": {},
     "output_type": "display_data"
    },
    {
     "name": "stdout",
     "output_type": "stream",
     "text": [
      "Epoch:  17000\n",
      "Recall@10:  0.283\n",
      "NDCG:  0.129\n",
      "Train Loss:  4.2327\n",
      "Val Loss:  [4.7876 4.7998 4.8863 4.8655 4.8721 4.9491 4.8453 4.8466 4.8574 4.7731\n",
      " 4.8974 4.8543]\n"
     ]
    },
    {
     "data": {
      "application/vnd.jupyter.widget-view+json": {
       "model_id": "06c48abdbb1540688326f32ed454301a",
       "version_major": 2,
       "version_minor": 0
      },
      "text/plain": [
       "  0%|          | 0/12 [00:00<?, ?it/s]"
      ]
     },
     "metadata": {},
     "output_type": "display_data"
    },
    {
     "name": "stdout",
     "output_type": "stream",
     "text": [
      "Epoch:  17500\n",
      "Recall@10:  0.283\n",
      "NDCG:  0.129\n",
      "Train Loss:  4.2858\n",
      "Val Loss:  [4.8791 4.8768 4.8385 4.8589 4.9017 4.8053 4.8118 4.9208 4.8185 4.7827\n",
      " 4.9095 4.7514]\n"
     ]
    },
    {
     "data": {
      "application/vnd.jupyter.widget-view+json": {
       "model_id": "f68a700ea2bf43c2aa5f60d0af160590",
       "version_major": 2,
       "version_minor": 0
      },
      "text/plain": [
       "  0%|          | 0/12 [00:00<?, ?it/s]"
      ]
     },
     "metadata": {},
     "output_type": "display_data"
    },
    {
     "name": "stdout",
     "output_type": "stream",
     "text": [
      "Epoch:  18000\n",
      "Recall@10:  0.284\n",
      "NDCG:  0.129\n",
      "Train Loss:  4.2859\n",
      "Val Loss:  [4.7305 4.7717 4.8436 4.9064 4.9035 4.8401 4.9084 4.8273 4.8481 4.6936\n",
      " 4.8732 4.9073]\n"
     ]
    },
    {
     "data": {
      "application/vnd.jupyter.widget-view+json": {
       "model_id": "4f8d37598ef141a5a462d1f8565e34f5",
       "version_major": 2,
       "version_minor": 0
      },
      "text/plain": [
       "  0%|          | 0/12 [00:00<?, ?it/s]"
      ]
     },
     "metadata": {},
     "output_type": "display_data"
    },
    {
     "name": "stdout",
     "output_type": "stream",
     "text": [
      "Epoch:  18500\n",
      "Recall@10:  0.283\n",
      "NDCG:  0.129\n",
      "Train Loss:  4.4265\n",
      "Val Loss:  [4.8031 4.8571 4.7847 4.7683 4.9014 4.8198 4.8984 4.873  4.7875 4.8515\n",
      " 4.8655 4.9314]\n"
     ]
    },
    {
     "data": {
      "application/vnd.jupyter.widget-view+json": {
       "model_id": "fabdc8ad5e984f99956122534f840099",
       "version_major": 2,
       "version_minor": 0
      },
      "text/plain": [
       "  0%|          | 0/12 [00:00<?, ?it/s]"
      ]
     },
     "metadata": {},
     "output_type": "display_data"
    },
    {
     "name": "stdout",
     "output_type": "stream",
     "text": [
      "Epoch:  19000\n",
      "Recall@10:  0.284\n",
      "NDCG:  0.129\n",
      "Train Loss:  4.3436\n",
      "Val Loss:  [4.8325 4.8203 4.8389 4.8846 4.8205 4.9173 4.8483 4.7783 4.8763 4.7767\n",
      " 4.8322 4.8111]\n"
     ]
    },
    {
     "data": {
      "application/vnd.jupyter.widget-view+json": {
       "model_id": "fbbe0d6d63ce402fb4c8474dc5e46b83",
       "version_major": 2,
       "version_minor": 0
      },
      "text/plain": [
       "  0%|          | 0/12 [00:00<?, ?it/s]"
      ]
     },
     "metadata": {},
     "output_type": "display_data"
    },
    {
     "name": "stdout",
     "output_type": "stream",
     "text": [
      "Epoch:  19500\n",
      "Recall@10:  0.286\n",
      "NDCG:  0.13\n",
      "Train Loss:  4.31\n",
      "Val Loss:  [4.8719 4.7873 4.8933 4.8181 4.7779 4.8774 4.7624 4.8208 4.869  4.8324\n",
      " 4.7788 4.9339]\n"
     ]
    },
    {
     "data": {
      "application/vnd.jupyter.widget-view+json": {
       "model_id": "d875332dab14459987ec59e9fa41fc8d",
       "version_major": 2,
       "version_minor": 0
      },
      "text/plain": [
       "  0%|          | 0/12 [00:00<?, ?it/s]"
      ]
     },
     "metadata": {},
     "output_type": "display_data"
    },
    {
     "name": "stdout",
     "output_type": "stream",
     "text": [
      "Epoch:  20000\n",
      "Recall@10:  0.285\n",
      "NDCG:  0.13\n",
      "Train Loss:  4.3256\n",
      "Val Loss:  [4.7995 4.8332 4.6921 4.837  4.9101 4.859  4.7592 4.8374 4.8336 4.8366\n",
      " 4.8741 4.8573]\n"
     ]
    },
    {
     "data": {
      "application/vnd.jupyter.widget-view+json": {
       "model_id": "a9bc554f09d54516842f038d3e6464e0",
       "version_major": 2,
       "version_minor": 0
      },
      "text/plain": [
       "  0%|          | 0/12 [00:00<?, ?it/s]"
      ]
     },
     "metadata": {},
     "output_type": "display_data"
    },
    {
     "name": "stdout",
     "output_type": "stream",
     "text": [
      "Epoch:  20500\n",
      "Recall@10:  0.287\n",
      "NDCG:  0.13\n",
      "Train Loss:  4.391\n",
      "Val Loss:  [4.8169 4.8061 4.7751 4.9537 4.7502 4.9012 4.776  4.7824 4.959  4.7243\n",
      " 4.8159 4.8673]\n"
     ]
    },
    {
     "data": {
      "application/vnd.jupyter.widget-view+json": {
       "model_id": "d1f17e7da8804df5b9c9a9e2122c3e7c",
       "version_major": 2,
       "version_minor": 0
      },
      "text/plain": [
       "  0%|          | 0/12 [00:00<?, ?it/s]"
      ]
     },
     "metadata": {},
     "output_type": "display_data"
    },
    {
     "name": "stdout",
     "output_type": "stream",
     "text": [
      "Epoch:  21000\n",
      "Recall@10:  0.288\n",
      "NDCG:  0.131\n",
      "Train Loss:  4.39\n",
      "Val Loss:  [4.8137 4.8247 4.8491 4.8832 4.7617 4.7636 4.7956 4.8438 4.877  4.7724\n",
      " 4.7629 4.8371]\n"
     ]
    },
    {
     "data": {
      "application/vnd.jupyter.widget-view+json": {
       "model_id": "8da7744e12e143d5b08c0fecdf790ed3",
       "version_major": 2,
       "version_minor": 0
      },
      "text/plain": [
       "  0%|          | 0/12 [00:00<?, ?it/s]"
      ]
     },
     "metadata": {},
     "output_type": "display_data"
    },
    {
     "name": "stdout",
     "output_type": "stream",
     "text": [
      "Epoch:  21500\n",
      "Recall@10:  0.289\n",
      "NDCG:  0.132\n",
      "Train Loss:  4.3382\n",
      "Val Loss:  [4.7664 4.8512 4.8015 4.8794 4.8786 4.9091 4.7186 4.7386 4.7717 4.8543\n",
      " 4.8177 4.8354]\n"
     ]
    },
    {
     "data": {
      "application/vnd.jupyter.widget-view+json": {
       "model_id": "b97358731dd24980823633362596eeda",
       "version_major": 2,
       "version_minor": 0
      },
      "text/plain": [
       "  0%|          | 0/12 [00:00<?, ?it/s]"
      ]
     },
     "metadata": {},
     "output_type": "display_data"
    },
    {
     "name": "stdout",
     "output_type": "stream",
     "text": [
      "Epoch:  22000\n",
      "Recall@10:  0.289\n",
      "NDCG:  0.131\n",
      "Train Loss:  4.3176\n",
      "Val Loss:  [4.8182 4.8203 4.8165 4.7681 4.8175 4.8276 4.827  4.8014 4.8368 4.7835\n",
      " 4.8171 4.842 ]\n"
     ]
    },
    {
     "data": {
      "application/vnd.jupyter.widget-view+json": {
       "model_id": "723447fa995d4503ac9a41d87cffeff9",
       "version_major": 2,
       "version_minor": 0
      },
      "text/plain": [
       "  0%|          | 0/12 [00:00<?, ?it/s]"
      ]
     },
     "metadata": {},
     "output_type": "display_data"
    },
    {
     "name": "stdout",
     "output_type": "stream",
     "text": [
      "Epoch:  22500\n",
      "Recall@10:  0.289\n",
      "NDCG:  0.131\n",
      "Train Loss:  4.2458\n",
      "Val Loss:  [4.8582 4.8503 4.7592 4.7312 4.772  4.8517 4.8274 4.8528 4.8469 4.8224\n",
      " 4.84   4.7689]\n"
     ]
    },
    {
     "data": {
      "application/vnd.jupyter.widget-view+json": {
       "model_id": "378214631e2d479bbde0a121b77285a1",
       "version_major": 2,
       "version_minor": 0
      },
      "text/plain": [
       "  0%|          | 0/12 [00:00<?, ?it/s]"
      ]
     },
     "metadata": {},
     "output_type": "display_data"
    },
    {
     "name": "stdout",
     "output_type": "stream",
     "text": [
      "Epoch:  23000\n",
      "Recall@10:  0.288\n",
      "NDCG:  0.131\n",
      "Train Loss:  4.2502\n",
      "Val Loss:  [4.8112 4.7571 4.8057 4.8599 4.8361 4.7924 4.7757 4.8938 4.8297 4.7853\n",
      " 4.7801 4.8537]\n"
     ]
    },
    {
     "data": {
      "application/vnd.jupyter.widget-view+json": {
       "model_id": "7e953f02b88041ffa45a90697931e1f7",
       "version_major": 2,
       "version_minor": 0
      },
      "text/plain": [
       "  0%|          | 0/12 [00:00<?, ?it/s]"
      ]
     },
     "metadata": {},
     "output_type": "display_data"
    },
    {
     "name": "stdout",
     "output_type": "stream",
     "text": [
      "Epoch:  23500\n",
      "Recall@10:  0.289\n",
      "NDCG:  0.131\n",
      "Train Loss:  4.2272\n",
      "Val Loss:  [4.7994 4.7416 4.7556 4.8153 4.8759 4.9089 4.7854 4.7223 4.8683 4.7567\n",
      " 4.8491 4.8918]\n"
     ]
    },
    {
     "data": {
      "application/vnd.jupyter.widget-view+json": {
       "model_id": "9d531f42997942f080b9ad796148b71d",
       "version_major": 2,
       "version_minor": 0
      },
      "text/plain": [
       "  0%|          | 0/12 [00:00<?, ?it/s]"
      ]
     },
     "metadata": {},
     "output_type": "display_data"
    },
    {
     "name": "stdout",
     "output_type": "stream",
     "text": [
      "Epoch:  24000\n",
      "Recall@10:  0.291\n",
      "NDCG:  0.132\n",
      "Train Loss:  4.2835\n",
      "Val Loss:  [4.9227 4.747  4.7492 4.6653 4.7395 4.7988 4.8489 4.7136 4.8365 4.8257\n",
      " 4.9967 4.7702]\n"
     ]
    },
    {
     "data": {
      "application/vnd.jupyter.widget-view+json": {
       "model_id": "61f70351a92244a3b146fc496a234a34",
       "version_major": 2,
       "version_minor": 0
      },
      "text/plain": [
       "  0%|          | 0/12 [00:00<?, ?it/s]"
      ]
     },
     "metadata": {},
     "output_type": "display_data"
    },
    {
     "name": "stdout",
     "output_type": "stream",
     "text": [
      "Epoch:  24500\n",
      "Recall@10:  0.289\n",
      "NDCG:  0.131\n",
      "Train Loss:  4.241\n",
      "Val Loss:  [4.8016 4.7931 4.7754 4.7785 4.8201 4.8167 4.8338 4.7544 4.7752 4.8747\n",
      " 4.7662 4.8869]\n"
     ]
    },
    {
     "data": {
      "application/vnd.jupyter.widget-view+json": {
       "model_id": "8244b1cd12f14f17a7fb397fef08f16a",
       "version_major": 2,
       "version_minor": 0
      },
      "text/plain": [
       "  0%|          | 0/12 [00:00<?, ?it/s]"
      ]
     },
     "metadata": {},
     "output_type": "display_data"
    },
    {
     "name": "stdout",
     "output_type": "stream",
     "text": [
      "Epoch:  25000\n",
      "Recall@10:  0.291\n",
      "NDCG:  0.132\n",
      "Train Loss:  4.1559\n",
      "Val Loss:  [4.8694 4.8016 4.758  4.8332 4.7804 4.8051 4.8023 4.7832 4.8257 4.792\n",
      " 4.8159 4.6728]\n"
     ]
    },
    {
     "data": {
      "application/vnd.jupyter.widget-view+json": {
       "model_id": "39d808e6a42146f0bea54dd401a7f998",
       "version_major": 2,
       "version_minor": 0
      },
      "text/plain": [
       "  0%|          | 0/12 [00:00<?, ?it/s]"
      ]
     },
     "metadata": {},
     "output_type": "display_data"
    },
    {
     "name": "stdout",
     "output_type": "stream",
     "text": [
      "Epoch:  25500\n",
      "Recall@10:  0.292\n",
      "NDCG:  0.133\n",
      "Train Loss:  4.3413\n",
      "Val Loss:  [4.7639 4.7597 4.8691 4.7813 4.8042 4.8205 4.8227 4.7392 4.8272 4.7623\n",
      " 4.7754 4.8056]\n"
     ]
    },
    {
     "data": {
      "application/vnd.jupyter.widget-view+json": {
       "model_id": "8fc38adff8b44f7c97b1157b55742c17",
       "version_major": 2,
       "version_minor": 0
      },
      "text/plain": [
       "  0%|          | 0/12 [00:00<?, ?it/s]"
      ]
     },
     "metadata": {},
     "output_type": "display_data"
    },
    {
     "name": "stdout",
     "output_type": "stream",
     "text": [
      "Epoch:  26000\n",
      "Recall@10:  0.292\n",
      "NDCG:  0.132\n",
      "Train Loss:  4.2318\n",
      "Val Loss:  [4.8015 4.8136 4.7655 4.8403 4.8701 4.8061 4.7468 4.7868 4.7421 4.7805\n",
      " 4.7942 4.7507]\n"
     ]
    },
    {
     "data": {
      "application/vnd.jupyter.widget-view+json": {
       "model_id": "d376dcdcedd44ca0982384784978996e",
       "version_major": 2,
       "version_minor": 0
      },
      "text/plain": [
       "  0%|          | 0/12 [00:00<?, ?it/s]"
      ]
     },
     "metadata": {},
     "output_type": "display_data"
    },
    {
     "name": "stdout",
     "output_type": "stream",
     "text": [
      "Epoch:  26500\n",
      "Recall@10:  0.293\n",
      "NDCG:  0.133\n",
      "Train Loss:  4.1871\n",
      "Val Loss:  [4.824  4.7214 4.7366 4.8336 4.7877 4.7684 4.8996 4.7968 4.8062 4.7616\n",
      " 4.7776 4.7226]\n"
     ]
    },
    {
     "data": {
      "application/vnd.jupyter.widget-view+json": {
       "model_id": "14765c573e554028b90f506f990c43f7",
       "version_major": 2,
       "version_minor": 0
      },
      "text/plain": [
       "  0%|          | 0/12 [00:00<?, ?it/s]"
      ]
     },
     "metadata": {},
     "output_type": "display_data"
    },
    {
     "name": "stdout",
     "output_type": "stream",
     "text": [
      "Epoch:  27000\n",
      "Recall@10:  0.294\n",
      "NDCG:  0.133\n",
      "Train Loss:  4.2043\n",
      "Val Loss:  [4.8478 4.7381 4.7605 4.8381 4.8239 4.8089 4.7524 4.8256 4.8373 4.7226\n",
      " 4.7509 4.726 ]\n"
     ]
    },
    {
     "data": {
      "application/vnd.jupyter.widget-view+json": {
       "model_id": "244a5a96f9114f0cbaf0553cf6ac70b8",
       "version_major": 2,
       "version_minor": 0
      },
      "text/plain": [
       "  0%|          | 0/12 [00:00<?, ?it/s]"
      ]
     },
     "metadata": {},
     "output_type": "display_data"
    },
    {
     "name": "stdout",
     "output_type": "stream",
     "text": [
      "Epoch:  28000\n",
      "Recall@10:  0.292\n",
      "NDCG:  0.132\n",
      "Train Loss:  4.3176\n",
      "Val Loss:  [4.7977 4.8035 4.8059 4.736  4.829  4.8175 4.8274 4.8306 4.6818 4.7172\n",
      " 4.7831 4.8028]\n"
     ]
    },
    {
     "data": {
      "application/vnd.jupyter.widget-view+json": {
       "model_id": "204cf99c1f624dd99bf67e89a8f55e80",
       "version_major": 2,
       "version_minor": 0
      },
      "text/plain": [
       "  0%|          | 0/12 [00:00<?, ?it/s]"
      ]
     },
     "metadata": {},
     "output_type": "display_data"
    },
    {
     "name": "stdout",
     "output_type": "stream",
     "text": [
      "Epoch:  28500\n",
      "Recall@10:  0.294\n",
      "NDCG:  0.134\n",
      "Train Loss:  4.2071\n",
      "Val Loss:  [4.7495 4.8011 4.8138 4.7288 4.7817 4.8432 4.8075 4.8188 4.6879 4.7406\n",
      " 4.778  4.8178]\n"
     ]
    },
    {
     "data": {
      "application/vnd.jupyter.widget-view+json": {
       "model_id": "27b8f84131d04673a3c2aab00fa3c497",
       "version_major": 2,
       "version_minor": 0
      },
      "text/plain": [
       "  0%|          | 0/12 [00:00<?, ?it/s]"
      ]
     },
     "metadata": {},
     "output_type": "display_data"
    },
    {
     "name": "stdout",
     "output_type": "stream",
     "text": [
      "Epoch:  29000\n",
      "Recall@10:  0.293\n",
      "NDCG:  0.133\n",
      "Train Loss:  4.1646\n",
      "Val Loss:  [4.6886 4.8205 4.8214 4.7003 4.7187 4.8142 4.7696 4.7918 4.8496 4.9192\n",
      " 4.751  4.7543]\n"
     ]
    },
    {
     "data": {
      "application/vnd.jupyter.widget-view+json": {
       "model_id": "599de175c88c4760bb9afaed8e3eda93",
       "version_major": 2,
       "version_minor": 0
      },
      "text/plain": [
       "  0%|          | 0/12 [00:00<?, ?it/s]"
      ]
     },
     "metadata": {},
     "output_type": "display_data"
    },
    {
     "name": "stdout",
     "output_type": "stream",
     "text": [
      "Epoch:  29500\n",
      "Recall@10:  0.294\n",
      "NDCG:  0.134\n",
      "Train Loss:  4.2417\n",
      "Val Loss:  [4.8087 4.7756 4.8363 4.7756 4.846  4.7709 4.8111 4.7271 4.8475 4.7259\n",
      " 4.7148 4.7305]\n"
     ]
    },
    {
     "data": {
      "application/vnd.jupyter.widget-view+json": {
       "model_id": "0f3d309b8b734ee7aa35b39067a1500d",
       "version_major": 2,
       "version_minor": 0
      },
      "text/plain": [
       "  0%|          | 0/12 [00:00<?, ?it/s]"
      ]
     },
     "metadata": {},
     "output_type": "display_data"
    },
    {
     "name": "stdout",
     "output_type": "stream",
     "text": [
      "Epoch:  30000\n",
      "Recall@10:  0.294\n",
      "NDCG:  0.134\n",
      "Train Loss:  4.3492\n",
      "Val Loss:  [4.7703 4.7838 4.7399 4.8377 4.7792 4.7678 4.7632 4.6711 4.8212 4.8097\n",
      " 4.7701 4.8002]\n"
     ]
    },
    {
     "data": {
      "application/vnd.jupyter.widget-view+json": {
       "model_id": "b87d3e7ab39348adbcd072e283f21690",
       "version_major": 2,
       "version_minor": 0
      },
      "text/plain": [
       "  0%|          | 0/12 [00:00<?, ?it/s]"
      ]
     },
     "metadata": {},
     "output_type": "display_data"
    },
    {
     "name": "stdout",
     "output_type": "stream",
     "text": [
      "Epoch:  30500\n",
      "Recall@10:  0.295\n",
      "NDCG:  0.134\n",
      "Train Loss:  4.2425\n",
      "Val Loss:  [4.8047 4.7567 4.733  4.8161 4.7268 4.8014 4.8703 4.8113 4.7217 4.7412\n",
      " 4.767  4.7584]\n"
     ]
    },
    {
     "data": {
      "application/vnd.jupyter.widget-view+json": {
       "model_id": "41d626352cc048c795bb5a4382bb8467",
       "version_major": 2,
       "version_minor": 0
      },
      "text/plain": [
       "  0%|          | 0/12 [00:00<?, ?it/s]"
      ]
     },
     "metadata": {},
     "output_type": "display_data"
    },
    {
     "name": "stdout",
     "output_type": "stream",
     "text": [
      "Epoch:  31000\n",
      "Recall@10:  0.294\n",
      "NDCG:  0.134\n",
      "Train Loss:  4.1187\n",
      "Val Loss:  [4.7645 4.7981 4.7789 4.8573 4.7331 4.787  4.6494 4.7598 4.8485 4.7421\n",
      " 4.8331 4.8055]\n"
     ]
    },
    {
     "data": {
      "application/vnd.jupyter.widget-view+json": {
       "model_id": "5750949d693a46d498f175b9d960f4fe",
       "version_major": 2,
       "version_minor": 0
      },
      "text/plain": [
       "  0%|          | 0/12 [00:00<?, ?it/s]"
      ]
     },
     "metadata": {},
     "output_type": "display_data"
    },
    {
     "name": "stdout",
     "output_type": "stream",
     "text": [
      "Epoch:  31500\n",
      "Recall@10:  0.295\n",
      "NDCG:  0.134\n",
      "Train Loss:  4.2192\n",
      "Val Loss:  [4.8066 4.7934 4.7674 4.7246 4.6999 4.7911 4.8395 4.7869 4.7876 4.7975\n",
      " 4.7459 4.752 ]\n"
     ]
    },
    {
     "data": {
      "application/vnd.jupyter.widget-view+json": {
       "model_id": "82f3aa5e63e8432a83027bf40ec28129",
       "version_major": 2,
       "version_minor": 0
      },
      "text/plain": [
       "  0%|          | 0/12 [00:00<?, ?it/s]"
      ]
     },
     "metadata": {},
     "output_type": "display_data"
    },
    {
     "name": "stdout",
     "output_type": "stream",
     "text": [
      "Epoch:  32000\n",
      "Recall@10:  0.294\n",
      "NDCG:  0.133\n",
      "Train Loss:  4.1329\n",
      "Val Loss:  [4.8337 4.775  4.7487 4.8004 4.8459 4.793  4.7246 4.7292 4.7159 4.7887\n",
      " 4.7705 4.821 ]\n"
     ]
    },
    {
     "data": {
      "application/vnd.jupyter.widget-view+json": {
       "model_id": "9ad86a7e82984a9bb5a404652aa3afe8",
       "version_major": 2,
       "version_minor": 0
      },
      "text/plain": [
       "  0%|          | 0/12 [00:00<?, ?it/s]"
      ]
     },
     "metadata": {},
     "output_type": "display_data"
    },
    {
     "name": "stdout",
     "output_type": "stream",
     "text": [
      "Epoch:  32500\n",
      "Recall@10:  0.296\n",
      "NDCG:  0.134\n",
      "Train Loss:  4.0865\n",
      "Val Loss:  [4.7758 4.7667 4.754  4.7251 4.8252 4.7913 4.7275 4.792  4.793  4.7064\n",
      " 4.7458 4.8539]\n"
     ]
    },
    {
     "data": {
      "application/vnd.jupyter.widget-view+json": {
       "model_id": "e8fcbb4d5a8444448b56f0bb0d8aa4af",
       "version_major": 2,
       "version_minor": 0
      },
      "text/plain": [
       "  0%|          | 0/12 [00:00<?, ?it/s]"
      ]
     },
     "metadata": {},
     "output_type": "display_data"
    },
    {
     "name": "stdout",
     "output_type": "stream",
     "text": [
      "Epoch:  33000\n",
      "Recall@10:  0.296\n",
      "NDCG:  0.135\n",
      "Train Loss:  4.1638\n",
      "Val Loss:  [4.7629 4.7915 4.6922 4.7424 4.8349 4.7415 4.8696 4.7496 4.7649 4.7573\n",
      " 4.7306 4.7787]\n"
     ]
    },
    {
     "data": {
      "application/vnd.jupyter.widget-view+json": {
       "model_id": "efd206af905f47c38626510f5f7a8ce1",
       "version_major": 2,
       "version_minor": 0
      },
      "text/plain": [
       "  0%|          | 0/12 [00:00<?, ?it/s]"
      ]
     },
     "metadata": {},
     "output_type": "display_data"
    },
    {
     "name": "stdout",
     "output_type": "stream",
     "text": [
      "Epoch:  33500\n",
      "Recall@10:  0.296\n",
      "NDCG:  0.135\n",
      "Train Loss:  4.231\n",
      "Val Loss:  [4.7523 4.7257 4.7701 4.8124 4.8099 4.8193 4.7353 4.707  4.7349 4.779\n",
      " 4.872  4.6226]\n"
     ]
    },
    {
     "data": {
      "application/vnd.jupyter.widget-view+json": {
       "model_id": "4e0c5e046a4246d9a0a1e2aa991f01d4",
       "version_major": 2,
       "version_minor": 0
      },
      "text/plain": [
       "  0%|          | 0/12 [00:00<?, ?it/s]"
      ]
     },
     "metadata": {},
     "output_type": "display_data"
    },
    {
     "name": "stdout",
     "output_type": "stream",
     "text": [
      "Epoch:  34000\n",
      "Recall@10:  0.296\n",
      "NDCG:  0.134\n",
      "Train Loss:  4.2214\n",
      "Val Loss:  [4.7725 4.7599 4.7857 4.768  4.7612 4.7767 4.7436 4.7125 4.7357 4.7543\n",
      " 4.8355 4.8256]\n"
     ]
    },
    {
     "data": {
      "application/vnd.jupyter.widget-view+json": {
       "model_id": "b29a0a90d2e7401a9a230a699b015fde",
       "version_major": 2,
       "version_minor": 0
      },
      "text/plain": [
       "  0%|          | 0/12 [00:00<?, ?it/s]"
      ]
     },
     "metadata": {},
     "output_type": "display_data"
    },
    {
     "name": "stdout",
     "output_type": "stream",
     "text": [
      "Epoch:  34500\n",
      "Recall@10:  0.296\n",
      "NDCG:  0.135\n",
      "Train Loss:  4.1975\n",
      "Val Loss:  [4.7599 4.7897 4.7697 4.8063 4.7895 4.6977 4.818  4.7059 4.7561 4.7405\n",
      " 4.7603 4.8491]\n"
     ]
    },
    {
     "data": {
      "application/vnd.jupyter.widget-view+json": {
       "model_id": "08be991eddf94da5952732f7eb3648f7",
       "version_major": 2,
       "version_minor": 0
      },
      "text/plain": [
       "  0%|          | 0/12 [00:00<?, ?it/s]"
      ]
     },
     "metadata": {},
     "output_type": "display_data"
    },
    {
     "name": "stdout",
     "output_type": "stream",
     "text": [
      "Epoch:  35000\n",
      "Recall@10:  0.297\n",
      "NDCG:  0.135\n",
      "Train Loss:  4.2529\n",
      "Val Loss:  [4.7739 4.7707 4.7671 4.8758 4.7112 4.7595 4.7197 4.8408 4.8174 4.7617\n",
      " 4.6552 4.7002]\n"
     ]
    },
    {
     "data": {
      "application/vnd.jupyter.widget-view+json": {
       "model_id": "8a1ed452acaf4818aeaf4067fc77ca55",
       "version_major": 2,
       "version_minor": 0
      },
      "text/plain": [
       "  0%|          | 0/12 [00:00<?, ?it/s]"
      ]
     },
     "metadata": {},
     "output_type": "display_data"
    },
    {
     "name": "stdout",
     "output_type": "stream",
     "text": [
      "Epoch:  35500\n",
      "Recall@10:  0.297\n",
      "NDCG:  0.135\n",
      "Train Loss:  4.2152\n",
      "Val Loss:  [4.7152 4.8053 4.7019 4.7475 4.8214 4.8489 4.7283 4.7483 4.7562 4.7962\n",
      " 4.7612 4.7559]\n"
     ]
    },
    {
     "data": {
      "application/vnd.jupyter.widget-view+json": {
       "model_id": "3f0f8e59c71d4512922b474bd3431e62",
       "version_major": 2,
       "version_minor": 0
      },
      "text/plain": [
       "  0%|          | 0/12 [00:00<?, ?it/s]"
      ]
     },
     "metadata": {},
     "output_type": "display_data"
    },
    {
     "name": "stdout",
     "output_type": "stream",
     "text": [
      "Epoch:  36000\n",
      "Recall@10:  0.298\n",
      "NDCG:  0.135\n",
      "Train Loss:  4.2155\n",
      "Val Loss:  [4.7451 4.7575 4.7495 4.7267 4.8217 4.6819 4.7995 4.8141 4.8047 4.6822\n",
      " 4.7783 4.7708]\n"
     ]
    },
    {
     "data": {
      "application/vnd.jupyter.widget-view+json": {
       "model_id": "d9386c97047941e8942b851f826e1066",
       "version_major": 2,
       "version_minor": 0
      },
      "text/plain": [
       "  0%|          | 0/12 [00:00<?, ?it/s]"
      ]
     },
     "metadata": {},
     "output_type": "display_data"
    },
    {
     "name": "stdout",
     "output_type": "stream",
     "text": [
      "Epoch:  36500\n",
      "Recall@10:  0.297\n",
      "NDCG:  0.135\n",
      "Train Loss:  3.9946\n",
      "Val Loss:  [4.6658 4.6999 4.7561 4.8205 4.7831 4.7515 4.7236 4.7715 4.7795 4.7875\n",
      " 4.7832 4.7834]\n"
     ]
    },
    {
     "data": {
      "application/vnd.jupyter.widget-view+json": {
       "model_id": "2c66b4bfa795442f9a28754a83df2e13",
       "version_major": 2,
       "version_minor": 0
      },
      "text/plain": [
       "  0%|          | 0/12 [00:00<?, ?it/s]"
      ]
     },
     "metadata": {},
     "output_type": "display_data"
    },
    {
     "name": "stdout",
     "output_type": "stream",
     "text": [
      "Epoch:  37000\n",
      "Recall@10:  0.297\n",
      "NDCG:  0.135\n",
      "Train Loss:  4.1569\n",
      "Val Loss:  [4.8982 4.8035 4.6577 4.766  4.7707 4.7709 4.7311 4.6811 4.6947 4.7227\n",
      " 4.8103 4.7636]\n"
     ]
    },
    {
     "data": {
      "application/vnd.jupyter.widget-view+json": {
       "model_id": "0cbbea4646b9404688ea19baf8bec333",
       "version_major": 2,
       "version_minor": 0
      },
      "text/plain": [
       "  0%|          | 0/12 [00:00<?, ?it/s]"
      ]
     },
     "metadata": {},
     "output_type": "display_data"
    },
    {
     "name": "stdout",
     "output_type": "stream",
     "text": [
      "Epoch:  37500\n",
      "Recall@10:  0.298\n",
      "NDCG:  0.135\n",
      "Train Loss:  4.1782\n",
      "Val Loss:  [4.6866 4.658  4.8329 4.7087 4.7138 4.805  4.7094 4.8052 4.7568 4.7658\n",
      " 4.8686 4.7741]\n"
     ]
    },
    {
     "data": {
      "application/vnd.jupyter.widget-view+json": {
       "model_id": "4b624b8bce614681bd41d023524c0ad1",
       "version_major": 2,
       "version_minor": 0
      },
      "text/plain": [
       "  0%|          | 0/12 [00:00<?, ?it/s]"
      ]
     },
     "metadata": {},
     "output_type": "display_data"
    },
    {
     "name": "stdout",
     "output_type": "stream",
     "text": [
      "Epoch:  38000\n",
      "Recall@10:  0.299\n",
      "NDCG:  0.136\n",
      "Train Loss:  4.263\n",
      "Val Loss:  [4.6592 4.7188 4.7257 4.7991 4.8124 4.762  4.7693 4.8093 4.725  4.7633\n",
      " 4.7847 4.7319]\n"
     ]
    },
    {
     "data": {
      "application/vnd.jupyter.widget-view+json": {
       "model_id": "dbb5cfc6809a4a27a3bdf5437f1179ee",
       "version_major": 2,
       "version_minor": 0
      },
      "text/plain": [
       "  0%|          | 0/12 [00:00<?, ?it/s]"
      ]
     },
     "metadata": {},
     "output_type": "display_data"
    },
    {
     "name": "stdout",
     "output_type": "stream",
     "text": [
      "Epoch:  38500\n",
      "Recall@10:  0.298\n",
      "NDCG:  0.135\n",
      "Train Loss:  4.1501\n",
      "Val Loss:  [4.7795 4.7739 4.7767 4.7912 4.739  4.7029 4.6878 4.7161 4.7927 4.8016\n",
      " 4.7498 4.7969]\n"
     ]
    },
    {
     "data": {
      "application/vnd.jupyter.widget-view+json": {
       "model_id": "c02a9b10403449428497526b4a74c597",
       "version_major": 2,
       "version_minor": 0
      },
      "text/plain": [
       "  0%|          | 0/12 [00:00<?, ?it/s]"
      ]
     },
     "metadata": {},
     "output_type": "display_data"
    },
    {
     "name": "stdout",
     "output_type": "stream",
     "text": [
      "Epoch:  39000\n",
      "Recall@10:  0.297\n",
      "NDCG:  0.135\n",
      "Train Loss:  4.0127\n",
      "Val Loss:  [4.8203 4.7276 4.7798 4.8187 4.7405 4.7362 4.828  4.765  4.7417 4.7168\n",
      " 4.7201 4.7152]\n"
     ]
    },
    {
     "data": {
      "application/vnd.jupyter.widget-view+json": {
       "model_id": "61c30b952ff04b48b2439070105fc309",
       "version_major": 2,
       "version_minor": 0
      },
      "text/plain": [
       "  0%|          | 0/12 [00:00<?, ?it/s]"
      ]
     },
     "metadata": {},
     "output_type": "display_data"
    },
    {
     "name": "stdout",
     "output_type": "stream",
     "text": [
      "Epoch:  39500\n",
      "Recall@10:  0.297\n",
      "NDCG:  0.135\n",
      "Train Loss:  3.9981\n",
      "Val Loss:  [4.702  4.7369 4.8355 4.7684 4.7379 4.772  4.7338 4.762  4.7544 4.6965\n",
      " 4.7802 4.7999]\n"
     ]
    },
    {
     "data": {
      "application/vnd.jupyter.widget-view+json": {
       "model_id": "16e4677410ed415a889c5baf9d454ec5",
       "version_major": 2,
       "version_minor": 0
      },
      "text/plain": [
       "  0%|          | 0/12 [00:00<?, ?it/s]"
      ]
     },
     "metadata": {},
     "output_type": "display_data"
    },
    {
     "name": "stdout",
     "output_type": "stream",
     "text": [
      "Epoch:  40000\n",
      "Recall@10:  0.298\n",
      "NDCG:  0.136\n",
      "Train Loss:  4.0318\n",
      "Val Loss:  [4.8034 4.822  4.6388 4.6912 4.7454 4.7327 4.7578 4.7687 4.7454 4.6907\n",
      " 4.8204 4.8603]\n"
     ]
    },
    {
     "data": {
      "application/vnd.jupyter.widget-view+json": {
       "model_id": "f44a308ebf624a88ba4282f195b693f7",
       "version_major": 2,
       "version_minor": 0
      },
      "text/plain": [
       "  0%|          | 0/12 [00:00<?, ?it/s]"
      ]
     },
     "metadata": {},
     "output_type": "display_data"
    },
    {
     "name": "stdout",
     "output_type": "stream",
     "text": [
      "Epoch:  40500\n",
      "Recall@10:  0.3\n",
      "NDCG:  0.136\n",
      "Train Loss:  4.1362\n",
      "Val Loss:  [4.839  4.8178 4.8135 4.757  4.7606 4.7014 4.7003 4.7281 4.6821 4.7817\n",
      " 4.7046 4.7008]\n"
     ]
    },
    {
     "data": {
      "application/vnd.jupyter.widget-view+json": {
       "model_id": "5279a60939e74b8e89449d0ee070f1ae",
       "version_major": 2,
       "version_minor": 0
      },
      "text/plain": [
       "  0%|          | 0/12 [00:00<?, ?it/s]"
      ]
     },
     "metadata": {},
     "output_type": "display_data"
    },
    {
     "name": "stdout",
     "output_type": "stream",
     "text": [
      "Epoch:  41000\n",
      "Recall@10:  0.3\n",
      "NDCG:  0.136\n",
      "Train Loss:  4.2436\n",
      "Val Loss:  [4.7681 4.7893 4.6587 4.787  4.7962 4.7499 4.7531 4.7678 4.7139 4.8201\n",
      " 4.7627 4.6765]\n"
     ]
    },
    {
     "data": {
      "application/vnd.jupyter.widget-view+json": {
       "model_id": "839231f613f24307979b28df150cc489",
       "version_major": 2,
       "version_minor": 0
      },
      "text/plain": [
       "  0%|          | 0/12 [00:00<?, ?it/s]"
      ]
     },
     "metadata": {},
     "output_type": "display_data"
    },
    {
     "name": "stdout",
     "output_type": "stream",
     "text": [
      "Epoch:  41500\n",
      "Recall@10:  0.299\n",
      "NDCG:  0.136\n",
      "Train Loss:  4.2263\n",
      "Val Loss:  [4.7589 4.8312 4.7116 4.649  4.7759 4.7861 4.7512 4.8404 4.757  4.6946\n",
      " 4.7003 4.7489]\n"
     ]
    },
    {
     "data": {
      "application/vnd.jupyter.widget-view+json": {
       "model_id": "37ef8777314746fcaeeea0bebad0441a",
       "version_major": 2,
       "version_minor": 0
      },
      "text/plain": [
       "  0%|          | 0/12 [00:00<?, ?it/s]"
      ]
     },
     "metadata": {},
     "output_type": "display_data"
    },
    {
     "name": "stdout",
     "output_type": "stream",
     "text": [
      "Epoch:  42000\n",
      "Recall@10:  0.3\n",
      "NDCG:  0.136\n",
      "Train Loss:  4.0612\n",
      "Val Loss:  [4.7181 4.8222 4.7294 4.8265 4.7327 4.7157 4.7918 4.7207 4.7483 4.7261\n",
      " 4.6677 4.7644]\n"
     ]
    },
    {
     "data": {
      "application/vnd.jupyter.widget-view+json": {
       "model_id": "6c1f161689bd48b2b787b57968530e29",
       "version_major": 2,
       "version_minor": 0
      },
      "text/plain": [
       "  0%|          | 0/12 [00:00<?, ?it/s]"
      ]
     },
     "metadata": {},
     "output_type": "display_data"
    },
    {
     "name": "stdout",
     "output_type": "stream",
     "text": [
      "Epoch:  42500\n",
      "Recall@10:  0.299\n",
      "NDCG:  0.136\n",
      "Train Loss:  4.1366\n",
      "Val Loss:  [4.6472 4.7593 4.8068 4.7515 4.8153 4.7773 4.726  4.7503 4.7536 4.7476\n",
      " 4.6707 4.7464]\n"
     ]
    },
    {
     "data": {
      "application/vnd.jupyter.widget-view+json": {
       "model_id": "c7ca4fabafd14ff8800b0f8d7e30b138",
       "version_major": 2,
       "version_minor": 0
      },
      "text/plain": [
       "  0%|          | 0/12 [00:00<?, ?it/s]"
      ]
     },
     "metadata": {},
     "output_type": "display_data"
    },
    {
     "name": "stdout",
     "output_type": "stream",
     "text": [
      "Epoch:  43000\n",
      "Recall@10:  0.299\n",
      "NDCG:  0.136\n",
      "Train Loss:  4.0618\n",
      "Val Loss:  [4.7591 4.7771 4.7524 4.6684 4.7318 4.8161 4.6912 4.8318 4.6764 4.6636\n",
      " 4.8342 4.8365]\n"
     ]
    },
    {
     "data": {
      "application/vnd.jupyter.widget-view+json": {
       "model_id": "a812e45767bc4857858bbbde42702a1d",
       "version_major": 2,
       "version_minor": 0
      },
      "text/plain": [
       "  0%|          | 0/12 [00:00<?, ?it/s]"
      ]
     },
     "metadata": {},
     "output_type": "display_data"
    },
    {
     "name": "stdout",
     "output_type": "stream",
     "text": [
      "Epoch:  43500\n",
      "Recall@10:  0.299\n",
      "NDCG:  0.136\n",
      "Train Loss:  4.181\n",
      "Val Loss:  [4.7225 4.7917 4.7642 4.7799 4.761  4.7223 4.7335 4.7439 4.7403 4.7365\n",
      " 4.7029 4.8293]\n"
     ]
    },
    {
     "data": {
      "application/vnd.jupyter.widget-view+json": {
       "model_id": "8bf211ebbc0f46168c45a133263d98ce",
       "version_major": 2,
       "version_minor": 0
      },
      "text/plain": [
       "  0%|          | 0/12 [00:00<?, ?it/s]"
      ]
     },
     "metadata": {},
     "output_type": "display_data"
    },
    {
     "name": "stdout",
     "output_type": "stream",
     "text": [
      "Epoch:  44000\n",
      "Recall@10:  0.3\n",
      "NDCG:  0.137\n",
      "Train Loss:  4.1311\n",
      "Val Loss:  [4.7365 4.7241 4.7632 4.7275 4.7534 4.7835 4.742  4.7409 4.7499 4.7623\n",
      " 4.7839 4.6113]\n"
     ]
    },
    {
     "data": {
      "application/vnd.jupyter.widget-view+json": {
       "model_id": "f95c2446412f478984652b995660ce5e",
       "version_major": 2,
       "version_minor": 0
      },
      "text/plain": [
       "  0%|          | 0/12 [00:00<?, ?it/s]"
      ]
     },
     "metadata": {},
     "output_type": "display_data"
    },
    {
     "name": "stdout",
     "output_type": "stream",
     "text": [
      "Epoch:  44500\n",
      "Recall@10:  0.3\n",
      "NDCG:  0.136\n",
      "Train Loss:  4.0103\n",
      "Val Loss:  [4.7982 4.735  4.8439 4.6722 4.7679 4.7142 4.7789 4.7351 4.708  4.7598\n",
      " 4.6548 4.722 ]\n"
     ]
    },
    {
     "data": {
      "application/vnd.jupyter.widget-view+json": {
       "model_id": "21733b58cfdb4ae984a93d536805d667",
       "version_major": 2,
       "version_minor": 0
      },
      "text/plain": [
       "  0%|          | 0/12 [00:00<?, ?it/s]"
      ]
     },
     "metadata": {},
     "output_type": "display_data"
    },
    {
     "name": "stdout",
     "output_type": "stream",
     "text": [
      "Epoch:  45000\n",
      "Recall@10:  0.301\n",
      "NDCG:  0.137\n",
      "Train Loss:  4.1237\n",
      "Val Loss:  [4.7308 4.6793 4.7385 4.7063 4.7216 4.7855 4.7581 4.7334 4.7752 4.7178\n",
      " 4.7679 4.7496]\n"
     ]
    },
    {
     "data": {
      "application/vnd.jupyter.widget-view+json": {
       "model_id": "bb7de286ac5849de84f4dfab35358abc",
       "version_major": 2,
       "version_minor": 0
      },
      "text/plain": [
       "  0%|          | 0/12 [00:00<?, ?it/s]"
      ]
     },
     "metadata": {},
     "output_type": "display_data"
    },
    {
     "name": "stdout",
     "output_type": "stream",
     "text": [
      "Epoch:  45500\n",
      "Recall@10:  0.302\n",
      "NDCG:  0.137\n",
      "Train Loss:  3.9807\n",
      "Val Loss:  [4.7631 4.7559 4.7479 4.7128 4.7584 4.6484 4.7624 4.7443 4.6797 4.7906\n",
      " 4.7725 4.6992]\n"
     ]
    },
    {
     "data": {
      "application/vnd.jupyter.widget-view+json": {
       "model_id": "b72db18bc9d74b51baeeaab39520086f",
       "version_major": 2,
       "version_minor": 0
      },
      "text/plain": [
       "  0%|          | 0/12 [00:00<?, ?it/s]"
      ]
     },
     "metadata": {},
     "output_type": "display_data"
    },
    {
     "name": "stdout",
     "output_type": "stream",
     "text": [
      "Epoch:  46000\n",
      "Recall@10:  0.299\n",
      "NDCG:  0.136\n",
      "Train Loss:  4.1599\n",
      "Val Loss:  [4.7114 4.6202 4.6852 4.8039 4.8287 4.6928 4.7866 4.7176 4.691  4.8204\n",
      " 4.6999 4.8638]\n"
     ]
    },
    {
     "data": {
      "application/vnd.jupyter.widget-view+json": {
       "model_id": "630310337eba4f61856a8e74a4ae941b",
       "version_major": 2,
       "version_minor": 0
      },
      "text/plain": [
       "  0%|          | 0/12 [00:00<?, ?it/s]"
      ]
     },
     "metadata": {},
     "output_type": "display_data"
    },
    {
     "name": "stdout",
     "output_type": "stream",
     "text": [
      "Epoch:  46500\n",
      "Recall@10:  0.301\n",
      "NDCG:  0.137\n",
      "Train Loss:  4.1804\n",
      "Val Loss:  [4.7148 4.7258 4.7362 4.7158 4.7201 4.7052 4.8031 4.7109 4.7669 4.7385\n",
      " 4.7896 4.7548]\n"
     ]
    },
    {
     "data": {
      "application/vnd.jupyter.widget-view+json": {
       "model_id": "40a7c83786444fbe9df86ae543ee20ab",
       "version_major": 2,
       "version_minor": 0
      },
      "text/plain": [
       "  0%|          | 0/12 [00:00<?, ?it/s]"
      ]
     },
     "metadata": {},
     "output_type": "display_data"
    },
    {
     "name": "stdout",
     "output_type": "stream",
     "text": [
      "Epoch:  47000\n",
      "Recall@10:  0.301\n",
      "NDCG:  0.137\n",
      "Train Loss:  4.0551\n",
      "Val Loss:  [4.7458 4.8187 4.7594 4.7989 4.7365 4.6848 4.7729 4.674  4.7136 4.712\n",
      " 4.6626 4.8478]\n"
     ]
    },
    {
     "data": {
      "application/vnd.jupyter.widget-view+json": {
       "model_id": "2fad6e6c2bd7416ba5361e60171c35ee",
       "version_major": 2,
       "version_minor": 0
      },
      "text/plain": [
       "  0%|          | 0/12 [00:00<?, ?it/s]"
      ]
     },
     "metadata": {},
     "output_type": "display_data"
    },
    {
     "name": "stdout",
     "output_type": "stream",
     "text": [
      "Epoch:  47500\n",
      "Recall@10:  0.302\n",
      "NDCG:  0.137\n",
      "Train Loss:  4.1018\n",
      "Val Loss:  [4.8003 4.7351 4.6907 4.769  4.662  4.6877 4.7823 4.7289 4.7413 4.7398\n",
      " 4.6734 4.8381]\n"
     ]
    },
    {
     "data": {
      "application/vnd.jupyter.widget-view+json": {
       "model_id": "cae575acc150487e9c565c41d8e0554d",
       "version_major": 2,
       "version_minor": 0
      },
      "text/plain": [
       "  0%|          | 0/12 [00:00<?, ?it/s]"
      ]
     },
     "metadata": {},
     "output_type": "display_data"
    },
    {
     "name": "stdout",
     "output_type": "stream",
     "text": [
      "Epoch:  48000\n",
      "Recall@10:  0.301\n",
      "NDCG:  0.137\n",
      "Train Loss:  4.0744\n",
      "Val Loss:  [4.6746 4.7903 4.7525 4.796  4.7011 4.6462 4.7934 4.7019 4.7304 4.7739\n",
      " 4.6753 4.8611]\n"
     ]
    },
    {
     "data": {
      "application/vnd.jupyter.widget-view+json": {
       "model_id": "49461d97b6874c1e843f2aa5368628b0",
       "version_major": 2,
       "version_minor": 0
      },
      "text/plain": [
       "  0%|          | 0/12 [00:00<?, ?it/s]"
      ]
     },
     "metadata": {},
     "output_type": "display_data"
    },
    {
     "name": "stdout",
     "output_type": "stream",
     "text": [
      "Epoch:  48500\n",
      "Recall@10:  0.301\n",
      "NDCG:  0.137\n",
      "Train Loss:  3.9531\n",
      "Val Loss:  [4.7028 4.8152 4.8228 4.7305 4.7626 4.6886 4.7264 4.7674 4.8264 4.7196\n",
      " 4.6426 4.7222]\n"
     ]
    },
    {
     "data": {
      "application/vnd.jupyter.widget-view+json": {
       "model_id": "18e48949d2674322b8f8bc1d5d4f919c",
       "version_major": 2,
       "version_minor": 0
      },
      "text/plain": [
       "  0%|          | 0/12 [00:00<?, ?it/s]"
      ]
     },
     "metadata": {},
     "output_type": "display_data"
    },
    {
     "name": "stdout",
     "output_type": "stream",
     "text": [
      "Epoch:  49000\n",
      "Recall@10:  0.302\n",
      "NDCG:  0.137\n",
      "Train Loss:  4.0731\n",
      "Val Loss:  [4.8001 4.7366 4.6822 4.7911 4.7889 4.7607 4.6989 4.7334 4.6433 4.6973\n",
      " 4.6987 4.7267]\n"
     ]
    },
    {
     "data": {
      "application/vnd.jupyter.widget-view+json": {
       "model_id": "7ddae3a18e374f79b2b153282333360d",
       "version_major": 2,
       "version_minor": 0
      },
      "text/plain": [
       "  0%|          | 0/12 [00:00<?, ?it/s]"
      ]
     },
     "metadata": {},
     "output_type": "display_data"
    },
    {
     "name": "stdout",
     "output_type": "stream",
     "text": [
      "Epoch:  49500\n",
      "Recall@10:  0.3\n",
      "NDCG:  0.136\n",
      "Train Loss:  4.2283\n",
      "Val Loss:  [4.8167 4.7808 4.7066 4.7514 4.646  4.7711 4.6929 4.7177 4.6683 4.7243\n",
      " 4.7559 4.8442]\n"
     ]
    },
    {
     "data": {
      "application/vnd.jupyter.widget-view+json": {
       "model_id": "af5f00806c4f4de8aeec00d617f8f00f",
       "version_major": 2,
       "version_minor": 0
      },
      "text/plain": [
       "  0%|          | 0/12 [00:00<?, ?it/s]"
      ]
     },
     "metadata": {},
     "output_type": "display_data"
    },
    {
     "name": "stdout",
     "output_type": "stream",
     "text": [
      "Epoch:  50000\n",
      "Recall@10:  0.301\n",
      "NDCG:  0.137\n",
      "Train Loss:  4.0374\n",
      "Val Loss:  [4.7236 4.6568 4.8516 4.7363 4.7006 4.7615 4.6474 4.7951 4.7864 4.7541\n",
      " 4.7012 4.7768]\n"
     ]
    },
    {
     "data": {
      "application/vnd.jupyter.widget-view+json": {
       "model_id": "ac3c84ec63d84082ab7ffb16e1c638da",
       "version_major": 2,
       "version_minor": 0
      },
      "text/plain": [
       "  0%|          | 0/12 [00:00<?, ?it/s]"
      ]
     },
     "metadata": {},
     "output_type": "display_data"
    },
    {
     "name": "stdout",
     "output_type": "stream",
     "text": [
      "Epoch:  50500\n",
      "Recall@10:  0.304\n",
      "NDCG:  0.138\n",
      "Train Loss:  3.9753\n",
      "Val Loss:  [4.725  4.7451 4.6734 4.8133 4.7702 4.7089 4.6923 4.7682 4.6948 4.7219\n",
      " 4.6917 4.7155]\n"
     ]
    },
    {
     "data": {
      "application/vnd.jupyter.widget-view+json": {
       "model_id": "67a60f05e896496a9939f1bb1ca935d1",
       "version_major": 2,
       "version_minor": 0
      },
      "text/plain": [
       "  0%|          | 0/12 [00:00<?, ?it/s]"
      ]
     },
     "metadata": {},
     "output_type": "display_data"
    },
    {
     "name": "stdout",
     "output_type": "stream",
     "text": [
      "Epoch:  51000\n",
      "Recall@10:  0.302\n",
      "NDCG:  0.137\n",
      "Train Loss:  4.1373\n",
      "Val Loss:  [4.7327 4.7158 4.7995 4.6466 4.714  4.8477 4.7485 4.6825 4.7451 4.776\n",
      " 4.6757 4.6997]\n"
     ]
    },
    {
     "data": {
      "application/vnd.jupyter.widget-view+json": {
       "model_id": "682adf5c5a8046f5af4dee9c7f70b9a5",
       "version_major": 2,
       "version_minor": 0
      },
      "text/plain": [
       "  0%|          | 0/12 [00:00<?, ?it/s]"
      ]
     },
     "metadata": {},
     "output_type": "display_data"
    },
    {
     "name": "stdout",
     "output_type": "stream",
     "text": [
      "Epoch:  51500\n",
      "Recall@10:  0.302\n",
      "NDCG:  0.137\n",
      "Train Loss:  4.1865\n",
      "Val Loss:  [4.7129 4.7403 4.7725 4.7642 4.7507 4.6497 4.7147 4.7829 4.7842 4.6442\n",
      " 4.655  4.8414]\n"
     ]
    },
    {
     "data": {
      "application/vnd.jupyter.widget-view+json": {
       "model_id": "1cbe99d3cde44599b255e42ead961e26",
       "version_major": 2,
       "version_minor": 0
      },
      "text/plain": [
       "  0%|          | 0/12 [00:00<?, ?it/s]"
      ]
     },
     "metadata": {},
     "output_type": "display_data"
    },
    {
     "name": "stdout",
     "output_type": "stream",
     "text": [
      "Epoch:  52000\n",
      "Recall@10:  0.301\n",
      "NDCG:  0.137\n",
      "Train Loss:  4.0964\n",
      "Val Loss:  [4.8251 4.7484 4.7155 4.6765 4.7543 4.7898 4.679  4.7621 4.6767 4.6902\n",
      " 4.5987 4.854 ]\n"
     ]
    },
    {
     "data": {
      "application/vnd.jupyter.widget-view+json": {
       "model_id": "1b4711a6ef1247bbb87ec08efe621518",
       "version_major": 2,
       "version_minor": 0
      },
      "text/plain": [
       "  0%|          | 0/12 [00:00<?, ?it/s]"
      ]
     },
     "metadata": {},
     "output_type": "display_data"
    },
    {
     "name": "stdout",
     "output_type": "stream",
     "text": [
      "Epoch:  52500\n",
      "Recall@10:  0.303\n",
      "NDCG:  0.138\n",
      "Train Loss:  4.0743\n",
      "Val Loss:  [4.8085 4.7154 4.7607 4.7844 4.7841 4.7481 4.6862 4.6231 4.7336 4.6892\n",
      " 4.7121 4.6862]\n"
     ]
    },
    {
     "data": {
      "application/vnd.jupyter.widget-view+json": {
       "model_id": "682654625928422095f2a19ab757466b",
       "version_major": 2,
       "version_minor": 0
      },
      "text/plain": [
       "  0%|          | 0/12 [00:00<?, ?it/s]"
      ]
     },
     "metadata": {},
     "output_type": "display_data"
    },
    {
     "name": "stdout",
     "output_type": "stream",
     "text": [
      "Epoch:  53000\n",
      "Recall@10:  0.302\n",
      "NDCG:  0.137\n",
      "Train Loss:  4.1244\n",
      "Val Loss:  [4.704  4.8051 4.7079 4.7351 4.589  4.6222 4.7946 4.8287 4.6881 4.751\n",
      " 4.7345 4.7976]\n"
     ]
    },
    {
     "data": {
      "application/vnd.jupyter.widget-view+json": {
       "model_id": "51897892e1ad4f5ba471cb0e2dc893ef",
       "version_major": 2,
       "version_minor": 0
      },
      "text/plain": [
       "  0%|          | 0/12 [00:00<?, ?it/s]"
      ]
     },
     "metadata": {},
     "output_type": "display_data"
    },
    {
     "name": "stdout",
     "output_type": "stream",
     "text": [
      "Epoch:  53500\n",
      "Recall@10:  0.302\n",
      "NDCG:  0.137\n",
      "Train Loss:  4.0371\n",
      "Val Loss:  [4.7302 4.7005 4.7406 4.7716 4.7726 4.8006 4.7268 4.6836 4.6934 4.756\n",
      " 4.7402 4.6882]\n"
     ]
    },
    {
     "data": {
      "application/vnd.jupyter.widget-view+json": {
       "model_id": "15b63565e09b46b58b443e20f6d18a40",
       "version_major": 2,
       "version_minor": 0
      },
      "text/plain": [
       "  0%|          | 0/12 [00:00<?, ?it/s]"
      ]
     },
     "metadata": {},
     "output_type": "display_data"
    },
    {
     "name": "stdout",
     "output_type": "stream",
     "text": [
      "Epoch:  54000\n",
      "Recall@10:  0.303\n",
      "NDCG:  0.138\n",
      "Train Loss:  4.0585\n",
      "Val Loss:  [4.7248 4.743  4.6481 4.8115 4.804  4.7158 4.7657 4.6798 4.7816 4.6747\n",
      " 4.7192 4.6876]\n"
     ]
    },
    {
     "data": {
      "application/vnd.jupyter.widget-view+json": {
       "model_id": "4d20eba406e6460085cf688d04d6ca8b",
       "version_major": 2,
       "version_minor": 0
      },
      "text/plain": [
       "  0%|          | 0/12 [00:00<?, ?it/s]"
      ]
     },
     "metadata": {},
     "output_type": "display_data"
    },
    {
     "name": "stdout",
     "output_type": "stream",
     "text": [
      "Epoch:  54500\n",
      "Recall@10:  0.302\n",
      "NDCG:  0.137\n",
      "Train Loss:  4.0916\n",
      "Val Loss:  [4.6358 4.7042 4.7499 4.7433 4.7158 4.7459 4.6545 4.7668 4.7359 4.7813\n",
      " 4.7228 4.7886]\n"
     ]
    },
    {
     "data": {
      "application/vnd.jupyter.widget-view+json": {
       "model_id": "06668dd941bd4c61badcb86bfc612bc0",
       "version_major": 2,
       "version_minor": 0
      },
      "text/plain": [
       "  0%|          | 0/12 [00:00<?, ?it/s]"
      ]
     },
     "metadata": {},
     "output_type": "display_data"
    },
    {
     "name": "stdout",
     "output_type": "stream",
     "text": [
      "Epoch:  55000\n",
      "Recall@10:  0.303\n",
      "NDCG:  0.137\n",
      "Train Loss:  4.1922\n",
      "Val Loss:  [4.7544 4.7815 4.7178 4.8298 4.726  4.778  4.767  4.7464 4.5914 4.716\n",
      " 4.6751 4.6738]\n"
     ]
    },
    {
     "data": {
      "application/vnd.jupyter.widget-view+json": {
       "model_id": "23e0697140bd4aa9a6b1fa3c88836a71",
       "version_major": 2,
       "version_minor": 0
      },
      "text/plain": [
       "  0%|          | 0/12 [00:00<?, ?it/s]"
      ]
     },
     "metadata": {},
     "output_type": "display_data"
    },
    {
     "name": "stdout",
     "output_type": "stream",
     "text": [
      "Epoch:  55500\n",
      "Recall@10:  0.304\n",
      "NDCG:  0.138\n",
      "Train Loss:  4.0746\n",
      "Val Loss:  [4.7271 4.765  4.7581 4.6936 4.787  4.7466 4.7173 4.689  4.6788 4.615\n",
      " 4.7489 4.7808]\n"
     ]
    },
    {
     "data": {
      "application/vnd.jupyter.widget-view+json": {
       "model_id": "ae6079a128ac45b1ba5fbdee18791297",
       "version_major": 2,
       "version_minor": 0
      },
      "text/plain": [
       "  0%|          | 0/12 [00:00<?, ?it/s]"
      ]
     },
     "metadata": {},
     "output_type": "display_data"
    },
    {
     "name": "stdout",
     "output_type": "stream",
     "text": [
      "Epoch:  56000\n",
      "Recall@10:  0.304\n",
      "NDCG:  0.138\n",
      "Train Loss:  4.08\n",
      "Val Loss:  [4.7165 4.6959 4.673  4.6729 4.7189 4.781  4.7585 4.7067 4.7158 4.8154\n",
      " 4.7288 4.6197]\n"
     ]
    },
    {
     "data": {
      "application/vnd.jupyter.widget-view+json": {
       "model_id": "91344a8ea5564eecbf536b7e3cdc5da8",
       "version_major": 2,
       "version_minor": 0
      },
      "text/plain": [
       "  0%|          | 0/12 [00:00<?, ?it/s]"
      ]
     },
     "metadata": {},
     "output_type": "display_data"
    },
    {
     "name": "stdout",
     "output_type": "stream",
     "text": [
      "Epoch:  56500\n",
      "Recall@10:  0.303\n",
      "NDCG:  0.138\n",
      "Train Loss:  4.0161\n",
      "Val Loss:  [4.7542 4.7151 4.8019 4.7575 4.7446 4.6328 4.8214 4.5881 4.7933 4.6789\n",
      " 4.728  4.662 ]\n"
     ]
    },
    {
     "data": {
      "application/vnd.jupyter.widget-view+json": {
       "model_id": "9a3aed34104e442cbe811466800d0324",
       "version_major": 2,
       "version_minor": 0
      },
      "text/plain": [
       "  0%|          | 0/12 [00:00<?, ?it/s]"
      ]
     },
     "metadata": {},
     "output_type": "display_data"
    },
    {
     "name": "stdout",
     "output_type": "stream",
     "text": [
      "Epoch:  57000\n",
      "Recall@10:  0.306\n",
      "NDCG:  0.139\n",
      "Train Loss:  3.9925\n",
      "Val Loss:  [4.6826 4.6956 4.777  4.7109 4.7277 4.7112 4.8193 4.713  4.8086 4.6947\n",
      " 4.641  4.6268]\n"
     ]
    },
    {
     "data": {
      "application/vnd.jupyter.widget-view+json": {
       "model_id": "9cf21f6ffa1e4159861bfd3978fa53ca",
       "version_major": 2,
       "version_minor": 0
      },
      "text/plain": [
       "  0%|          | 0/12 [00:00<?, ?it/s]"
      ]
     },
     "metadata": {},
     "output_type": "display_data"
    },
    {
     "name": "stdout",
     "output_type": "stream",
     "text": [
      "Epoch:  57500\n",
      "Recall@10:  0.305\n",
      "NDCG:  0.138\n",
      "Train Loss:  4.0323\n",
      "Val Loss:  [4.7252 4.7483 4.7524 4.7478 4.6734 4.7573 4.7009 4.7433 4.6799 4.762\n",
      " 4.6654 4.699 ]\n"
     ]
    },
    {
     "data": {
      "application/vnd.jupyter.widget-view+json": {
       "model_id": "5a626219ab914ebd8a145d126be73773",
       "version_major": 2,
       "version_minor": 0
      },
      "text/plain": [
       "  0%|          | 0/12 [00:00<?, ?it/s]"
      ]
     },
     "metadata": {},
     "output_type": "display_data"
    },
    {
     "name": "stdout",
     "output_type": "stream",
     "text": [
      "Epoch:  58000\n",
      "Recall@10:  0.303\n",
      "NDCG:  0.138\n",
      "Train Loss:  4.051\n",
      "Val Loss:  [4.8213 4.6327 4.7273 4.7252 4.6915 4.7588 4.781  4.7646 4.6538 4.7324\n",
      " 4.6538 4.7386]\n"
     ]
    },
    {
     "data": {
      "application/vnd.jupyter.widget-view+json": {
       "model_id": "218d9a249915409ba4218341d7663c37",
       "version_major": 2,
       "version_minor": 0
      },
      "text/plain": [
       "  0%|          | 0/12 [00:00<?, ?it/s]"
      ]
     },
     "metadata": {},
     "output_type": "display_data"
    },
    {
     "name": "stdout",
     "output_type": "stream",
     "text": [
      "Epoch:  58500\n",
      "Recall@10:  0.304\n",
      "NDCG:  0.138\n",
      "Train Loss:  4.0537\n",
      "Val Loss:  [4.77   4.6766 4.6454 4.7273 4.7615 4.6862 4.6886 4.7357 4.7047 4.7399\n",
      " 4.7615 4.7445]\n"
     ]
    },
    {
     "data": {
      "application/vnd.jupyter.widget-view+json": {
       "model_id": "23da4cdcc2714da3981859b38906e051",
       "version_major": 2,
       "version_minor": 0
      },
      "text/plain": [
       "  0%|          | 0/12 [00:00<?, ?it/s]"
      ]
     },
     "metadata": {},
     "output_type": "display_data"
    },
    {
     "name": "stdout",
     "output_type": "stream",
     "text": [
      "Epoch:  59000\n",
      "Recall@10:  0.305\n",
      "NDCG:  0.139\n",
      "Train Loss:  4.0773\n",
      "Val Loss:  [4.7673 4.6903 4.7269 4.689  4.7039 4.7519 4.6772 4.6847 4.7152 4.6924\n",
      " 4.8066 4.711 ]\n"
     ]
    },
    {
     "data": {
      "application/vnd.jupyter.widget-view+json": {
       "model_id": "d0d6061d1af24add8ff32da85dbf7b10",
       "version_major": 2,
       "version_minor": 0
      },
      "text/plain": [
       "  0%|          | 0/12 [00:00<?, ?it/s]"
      ]
     },
     "metadata": {},
     "output_type": "display_data"
    },
    {
     "name": "stdout",
     "output_type": "stream",
     "text": [
      "Epoch:  59500\n",
      "Recall@10:  0.305\n",
      "NDCG:  0.138\n",
      "Train Loss:  4.1158\n",
      "Val Loss:  [4.6986 4.744  4.6518 4.7641 4.6653 4.7567 4.6981 4.6494 4.7978 4.7186\n",
      " 4.6782 4.7845]\n"
     ]
    },
    {
     "data": {
      "application/vnd.jupyter.widget-view+json": {
       "model_id": "ddc018006bd84231a006f2652872dfc9",
       "version_major": 2,
       "version_minor": 0
      },
      "text/plain": [
       "  0%|          | 0/12 [00:00<?, ?it/s]"
      ]
     },
     "metadata": {},
     "output_type": "display_data"
    },
    {
     "name": "stdout",
     "output_type": "stream",
     "text": [
      "Epoch:  60000\n",
      "Recall@10:  0.304\n",
      "NDCG:  0.138\n",
      "Train Loss:  4.1519\n",
      "Val Loss:  [4.761  4.682  4.7434 4.7849 4.7    4.7658 4.6298 4.8694 4.7311 4.6939\n",
      " 4.6658 4.7283]\n"
     ]
    },
    {
     "data": {
      "application/vnd.jupyter.widget-view+json": {
       "model_id": "07bc3651085541859106f5fe4d44bf02",
       "version_major": 2,
       "version_minor": 0
      },
      "text/plain": [
       "  0%|          | 0/12 [00:00<?, ?it/s]"
      ]
     },
     "metadata": {},
     "output_type": "display_data"
    },
    {
     "name": "stdout",
     "output_type": "stream",
     "text": [
      "Epoch:  60500\n",
      "Recall@10:  0.303\n",
      "NDCG:  0.138\n",
      "Train Loss:  4.075\n",
      "Val Loss:  [4.7866 4.7669 4.745  4.7078 4.6328 4.6743 4.7542 4.7936 4.656  4.6759\n",
      " 4.728  4.8305]\n"
     ]
    },
    {
     "data": {
      "application/vnd.jupyter.widget-view+json": {
       "model_id": "f5ab1e8f64cc47aeba937aa00b756748",
       "version_major": 2,
       "version_minor": 0
      },
      "text/plain": [
       "  0%|          | 0/12 [00:00<?, ?it/s]"
      ]
     },
     "metadata": {},
     "output_type": "display_data"
    },
    {
     "name": "stdout",
     "output_type": "stream",
     "text": [
      "Epoch:  61000\n",
      "Recall@10:  0.304\n",
      "NDCG:  0.138\n",
      "Train Loss:  4.2302\n",
      "Val Loss:  [4.6812 4.7039 4.6765 4.6947 4.7245 4.6224 4.768  4.7589 4.72   4.762\n",
      " 4.6821 4.8289]\n"
     ]
    },
    {
     "data": {
      "application/vnd.jupyter.widget-view+json": {
       "model_id": "0eb7fe8dc5b24a7f9ef7670ea941cc2e",
       "version_major": 2,
       "version_minor": 0
      },
      "text/plain": [
       "  0%|          | 0/12 [00:00<?, ?it/s]"
      ]
     },
     "metadata": {},
     "output_type": "display_data"
    },
    {
     "name": "stdout",
     "output_type": "stream",
     "text": [
      "Epoch:  62000\n",
      "Recall@10:  0.305\n",
      "NDCG:  0.139\n",
      "Train Loss:  4.05\n",
      "Val Loss:  [4.7713 4.7852 4.7141 4.7522 4.6846 4.6681 4.748  4.7866 4.6951 4.7159\n",
      " 4.7307 4.5752]\n"
     ]
    },
    {
     "data": {
      "application/vnd.jupyter.widget-view+json": {
       "model_id": "f5bc3866e45949b39156ff42e2a4a345",
       "version_major": 2,
       "version_minor": 0
      },
      "text/plain": [
       "  0%|          | 0/12 [00:00<?, ?it/s]"
      ]
     },
     "metadata": {},
     "output_type": "display_data"
    },
    {
     "name": "stdout",
     "output_type": "stream",
     "text": [
      "Epoch:  62500\n",
      "Recall@10:  0.304\n",
      "NDCG:  0.138\n",
      "Train Loss:  4.131\n",
      "Val Loss:  [4.6281 4.744  4.7066 4.7724 4.6841 4.6659 4.7438 4.7111 4.7127 4.7206\n",
      " 4.7388 4.7785]\n"
     ]
    },
    {
     "data": {
      "application/vnd.jupyter.widget-view+json": {
       "model_id": "4de21f587a2845bd806ad4a6759511bf",
       "version_major": 2,
       "version_minor": 0
      },
      "text/plain": [
       "  0%|          | 0/12 [00:00<?, ?it/s]"
      ]
     },
     "metadata": {},
     "output_type": "display_data"
    },
    {
     "name": "stdout",
     "output_type": "stream",
     "text": [
      "Epoch:  63000\n",
      "Recall@10:  0.305\n",
      "NDCG:  0.139\n",
      "Train Loss:  4.2529\n",
      "Val Loss:  [4.7605 4.7486 4.7019 4.6693 4.7653 4.7582 4.7067 4.6803 4.6531 4.7192\n",
      " 4.7046 4.7159]\n"
     ]
    },
    {
     "data": {
      "application/vnd.jupyter.widget-view+json": {
       "model_id": "00dce820474040129db6aa4f12b60a6d",
       "version_major": 2,
       "version_minor": 0
      },
      "text/plain": [
       "  0%|          | 0/12 [00:00<?, ?it/s]"
      ]
     },
     "metadata": {},
     "output_type": "display_data"
    },
    {
     "name": "stdout",
     "output_type": "stream",
     "text": [
      "Epoch:  63500\n",
      "Recall@10:  0.304\n",
      "NDCG:  0.138\n",
      "Train Loss:  4.0946\n",
      "Val Loss:  [4.8252 4.7319 4.7328 4.7061 4.6831 4.7744 4.734  4.7119 4.6764 4.7091\n",
      " 4.6714 4.6906]\n"
     ]
    },
    {
     "data": {
      "application/vnd.jupyter.widget-view+json": {
       "model_id": "66fcfa3c0709425a84384d20292e0673",
       "version_major": 2,
       "version_minor": 0
      },
      "text/plain": [
       "  0%|          | 0/12 [00:00<?, ?it/s]"
      ]
     },
     "metadata": {},
     "output_type": "display_data"
    },
    {
     "name": "stdout",
     "output_type": "stream",
     "text": [
      "Epoch:  64000\n",
      "Recall@10:  0.305\n",
      "NDCG:  0.139\n",
      "Train Loss:  4.0852\n",
      "Val Loss:  [4.7427 4.7648 4.7001 4.6615 4.7592 4.6917 4.6652 4.7282 4.7365 4.7586\n",
      " 4.7708 4.6581]\n"
     ]
    },
    {
     "data": {
      "application/vnd.jupyter.widget-view+json": {
       "model_id": "0ef718e54514421c87b60ccb96b3d750",
       "version_major": 2,
       "version_minor": 0
      },
      "text/plain": [
       "  0%|          | 0/12 [00:00<?, ?it/s]"
      ]
     },
     "metadata": {},
     "output_type": "display_data"
    },
    {
     "name": "stdout",
     "output_type": "stream",
     "text": [
      "Epoch:  64500\n",
      "Recall@10:  0.305\n",
      "NDCG:  0.138\n",
      "Train Loss:  3.996\n",
      "Val Loss:  [4.6828 4.7527 4.6817 4.7186 4.6583 4.6708 4.7342 4.7417 4.7617 4.7223\n",
      " 4.7388 4.7324]\n"
     ]
    },
    {
     "data": {
      "application/vnd.jupyter.widget-view+json": {
       "model_id": "8cd75bd96e794762aa8484543e25a1a8",
       "version_major": 2,
       "version_minor": 0
      },
      "text/plain": [
       "  0%|          | 0/12 [00:00<?, ?it/s]"
      ]
     },
     "metadata": {},
     "output_type": "display_data"
    },
    {
     "name": "stdout",
     "output_type": "stream",
     "text": [
      "Epoch:  65000\n",
      "Recall@10:  0.305\n",
      "NDCG:  0.139\n",
      "Train Loss:  4.0086\n",
      "Val Loss:  [4.7421 4.8295 4.7408 4.7673 4.6438 4.6469 4.7006 4.7331 4.6574 4.7397\n",
      " 4.695  4.7154]\n"
     ]
    },
    {
     "data": {
      "application/vnd.jupyter.widget-view+json": {
       "model_id": "a8c6047809a146efa40a6ff3b74fd468",
       "version_major": 2,
       "version_minor": 0
      },
      "text/plain": [
       "  0%|          | 0/12 [00:00<?, ?it/s]"
      ]
     },
     "metadata": {},
     "output_type": "display_data"
    },
    {
     "name": "stdout",
     "output_type": "stream",
     "text": [
      "Epoch:  65500\n",
      "Recall@10:  0.306\n",
      "NDCG:  0.139\n",
      "Train Loss:  4.0932\n",
      "Val Loss:  [4.6058 4.7557 4.5833 4.7196 4.7181 4.8024 4.7003 4.7246 4.7763 4.6374\n",
      " 4.7925 4.7341]\n"
     ]
    },
    {
     "data": {
      "application/vnd.jupyter.widget-view+json": {
       "model_id": "84783a59a68741db8f0f690a9cbfbd65",
       "version_major": 2,
       "version_minor": 0
      },
      "text/plain": [
       "  0%|          | 0/12 [00:00<?, ?it/s]"
      ]
     },
     "metadata": {},
     "output_type": "display_data"
    },
    {
     "name": "stdout",
     "output_type": "stream",
     "text": [
      "Epoch:  66000\n",
      "Recall@10:  0.305\n",
      "NDCG:  0.139\n",
      "Train Loss:  4.0799\n",
      "Val Loss:  [4.7706 4.7145 4.7351 4.7367 4.6881 4.7745 4.7391 4.6535 4.6425 4.6968\n",
      " 4.6347 4.8109]\n"
     ]
    },
    {
     "data": {
      "application/vnd.jupyter.widget-view+json": {
       "model_id": "b2b6e940fffb4ca5b1218de58eb3167d",
       "version_major": 2,
       "version_minor": 0
      },
      "text/plain": [
       "  0%|          | 0/12 [00:00<?, ?it/s]"
      ]
     },
     "metadata": {},
     "output_type": "display_data"
    },
    {
     "name": "stdout",
     "output_type": "stream",
     "text": [
      "Epoch:  66500\n",
      "Recall@10:  0.305\n",
      "NDCG:  0.139\n",
      "Train Loss:  4.1252\n",
      "Val Loss:  [4.6918 4.7135 4.727  4.7904 4.6955 4.7223 4.7079 4.6882 4.7386 4.7691\n",
      " 4.5687 4.752 ]\n"
     ]
    },
    {
     "data": {
      "application/vnd.jupyter.widget-view+json": {
       "model_id": "6be09c517064459cbe1b669fe0cb6ac6",
       "version_major": 2,
       "version_minor": 0
      },
      "text/plain": [
       "  0%|          | 0/12 [00:00<?, ?it/s]"
      ]
     },
     "metadata": {},
     "output_type": "display_data"
    },
    {
     "name": "stdout",
     "output_type": "stream",
     "text": [
      "Epoch:  67000\n",
      "Recall@10:  0.305\n",
      "NDCG:  0.139\n",
      "Train Loss:  4.0798\n",
      "Val Loss:  [4.6913 4.7936 4.7628 4.6828 4.658  4.693  4.7452 4.7006 4.6999 4.682\n",
      " 4.7877 4.7237]\n"
     ]
    },
    {
     "data": {
      "application/vnd.jupyter.widget-view+json": {
       "model_id": "34dd83da49274aa7933563b02b1cc854",
       "version_major": 2,
       "version_minor": 0
      },
      "text/plain": [
       "  0%|          | 0/12 [00:00<?, ?it/s]"
      ]
     },
     "metadata": {},
     "output_type": "display_data"
    },
    {
     "name": "stdout",
     "output_type": "stream",
     "text": [
      "Epoch:  67500\n",
      "Recall@10:  0.306\n",
      "NDCG:  0.139\n",
      "Train Loss:  4.108\n",
      "Val Loss:  [4.763  4.6791 4.6807 4.745  4.636  4.7366 4.6787 4.6427 4.8041 4.7032\n",
      " 4.7208 4.8115]\n"
     ]
    },
    {
     "data": {
      "application/vnd.jupyter.widget-view+json": {
       "model_id": "630a52c0516545b1bda5229e29571a72",
       "version_major": 2,
       "version_minor": 0
      },
      "text/plain": [
       "  0%|          | 0/12 [00:00<?, ?it/s]"
      ]
     },
     "metadata": {},
     "output_type": "display_data"
    },
    {
     "name": "stdout",
     "output_type": "stream",
     "text": [
      "Epoch:  68000\n",
      "Recall@10:  0.306\n",
      "NDCG:  0.139\n",
      "Train Loss:  4.0483\n",
      "Val Loss:  [4.7126 4.6843 4.7075 4.5835 4.7709 4.6366 4.7179 4.7464 4.7528 4.76\n",
      " 4.7936 4.6395]\n"
     ]
    },
    {
     "data": {
      "application/vnd.jupyter.widget-view+json": {
       "model_id": "ba4b8ba1ea6f4086a907b78d4b0035ee",
       "version_major": 2,
       "version_minor": 0
      },
      "text/plain": [
       "  0%|          | 0/12 [00:00<?, ?it/s]"
      ]
     },
     "metadata": {},
     "output_type": "display_data"
    },
    {
     "name": "stdout",
     "output_type": "stream",
     "text": [
      "Epoch:  68500\n",
      "Recall@10:  0.305\n",
      "NDCG:  0.139\n",
      "Train Loss:  4.0455\n",
      "Val Loss:  [4.8069 4.7569 4.609  4.7566 4.7215 4.7283 4.6481 4.7773 4.6499 4.7847\n",
      " 4.7143 4.6483]\n"
     ]
    },
    {
     "data": {
      "application/vnd.jupyter.widget-view+json": {
       "model_id": "9c1e430d520c4107b988ae4710b32f09",
       "version_major": 2,
       "version_minor": 0
      },
      "text/plain": [
       "  0%|          | 0/12 [00:00<?, ?it/s]"
      ]
     },
     "metadata": {},
     "output_type": "display_data"
    },
    {
     "name": "stdout",
     "output_type": "stream",
     "text": [
      "Epoch:  69000\n",
      "Recall@10:  0.306\n",
      "NDCG:  0.139\n",
      "Train Loss:  4.0557\n",
      "Val Loss:  [4.7239 4.7231 4.7074 4.6585 4.7054 4.7854 4.7907 4.7823 4.6062 4.6306\n",
      " 4.7062 4.7567]\n"
     ]
    },
    {
     "data": {
      "application/vnd.jupyter.widget-view+json": {
       "model_id": "7a4fe875116b4e9fad96262378928e14",
       "version_major": 2,
       "version_minor": 0
      },
      "text/plain": [
       "  0%|          | 0/12 [00:00<?, ?it/s]"
      ]
     },
     "metadata": {},
     "output_type": "display_data"
    },
    {
     "name": "stdout",
     "output_type": "stream",
     "text": [
      "Epoch:  69500\n",
      "Recall@10:  0.306\n",
      "NDCG:  0.139\n",
      "Train Loss:  4.0304\n",
      "Val Loss:  [4.6788 4.7037 4.7024 4.6498 4.7128 4.7488 4.7122 4.698  4.726  4.719\n",
      " 4.6846 4.759 ]\n"
     ]
    },
    {
     "data": {
      "application/vnd.jupyter.widget-view+json": {
       "model_id": "a565805a6ccb43788c8a64faf842d276",
       "version_major": 2,
       "version_minor": 0
      },
      "text/plain": [
       "  0%|          | 0/12 [00:00<?, ?it/s]"
      ]
     },
     "metadata": {},
     "output_type": "display_data"
    },
    {
     "name": "stdout",
     "output_type": "stream",
     "text": [
      "Epoch:  70000\n",
      "Recall@10:  0.306\n",
      "NDCG:  0.139\n",
      "Train Loss:  4.178\n",
      "Val Loss:  [4.7131 4.6141 4.7533 4.6951 4.6755 4.6608 4.6728 4.8054 4.7254 4.7668\n",
      " 4.7163 4.7474]\n"
     ]
    },
    {
     "data": {
      "application/vnd.jupyter.widget-view+json": {
       "model_id": "6c18f73a59c3460d9b32fb1ee8eeda39",
       "version_major": 2,
       "version_minor": 0
      },
      "text/plain": [
       "  0%|          | 0/12 [00:00<?, ?it/s]"
      ]
     },
     "metadata": {},
     "output_type": "display_data"
    },
    {
     "name": "stdout",
     "output_type": "stream",
     "text": [
      "Epoch:  70500\n",
      "Recall@10:  0.306\n",
      "NDCG:  0.139\n",
      "Train Loss:  4.0395\n",
      "Val Loss:  [4.6365 4.7137 4.7032 4.7343 4.7821 4.7333 4.6659 4.7489 4.6871 4.7117\n",
      " 4.7326 4.6828]\n"
     ]
    },
    {
     "data": {
      "application/vnd.jupyter.widget-view+json": {
       "model_id": "b4764b06767b4950ad77292cb0538aeb",
       "version_major": 2,
       "version_minor": 0
      },
      "text/plain": [
       "  0%|          | 0/12 [00:00<?, ?it/s]"
      ]
     },
     "metadata": {},
     "output_type": "display_data"
    },
    {
     "name": "stdout",
     "output_type": "stream",
     "text": [
      "Epoch:  71000\n",
      "Recall@10:  0.306\n",
      "NDCG:  0.139\n",
      "Train Loss:  4.1127\n",
      "Val Loss:  [4.6136 4.7508 4.7246 4.7338 4.7797 4.6701 4.6762 4.6701 4.7314 4.6553\n",
      " 4.7559 4.8023]\n"
     ]
    },
    {
     "data": {
      "application/vnd.jupyter.widget-view+json": {
       "model_id": "ffedb068119e4e8a8a125df042f74c88",
       "version_major": 2,
       "version_minor": 0
      },
      "text/plain": [
       "  0%|          | 0/12 [00:00<?, ?it/s]"
      ]
     },
     "metadata": {},
     "output_type": "display_data"
    },
    {
     "name": "stdout",
     "output_type": "stream",
     "text": [
      "Epoch:  71500\n",
      "Recall@10:  0.306\n",
      "NDCG:  0.139\n",
      "Train Loss:  4.0139\n",
      "Val Loss:  [4.7286 4.7729 4.7475 4.7375 4.7705 4.7029 4.7247 4.7103 4.6335 4.6884\n",
      " 4.6901 4.6231]\n"
     ]
    },
    {
     "data": {
      "application/vnd.jupyter.widget-view+json": {
       "model_id": "a7953b8709734f31b21a38745f6922a7",
       "version_major": 2,
       "version_minor": 0
      },
      "text/plain": [
       "  0%|          | 0/12 [00:00<?, ?it/s]"
      ]
     },
     "metadata": {},
     "output_type": "display_data"
    },
    {
     "name": "stdout",
     "output_type": "stream",
     "text": [
      "Epoch:  72000\n",
      "Recall@10:  0.305\n",
      "NDCG:  0.139\n",
      "Train Loss:  4.1111\n",
      "Val Loss:  [4.6664 4.7717 4.7884 4.6435 4.6498 4.6396 4.8305 4.7211 4.6618 4.6812\n",
      " 4.7205 4.8198]\n"
     ]
    },
    {
     "data": {
      "application/vnd.jupyter.widget-view+json": {
       "model_id": "537282eb069147088c6ba9024898e2d5",
       "version_major": 2,
       "version_minor": 0
      },
      "text/plain": [
       "  0%|          | 0/12 [00:00<?, ?it/s]"
      ]
     },
     "metadata": {},
     "output_type": "display_data"
    },
    {
     "name": "stdout",
     "output_type": "stream",
     "text": [
      "Epoch:  72500\n",
      "Recall@10:  0.306\n",
      "NDCG:  0.139\n",
      "Train Loss:  4.082\n",
      "Val Loss:  [4.7365 4.6271 4.7013 4.7833 4.7294 4.77   4.6592 4.6337 4.7616 4.704\n",
      " 4.7225 4.7221]\n"
     ]
    },
    {
     "data": {
      "application/vnd.jupyter.widget-view+json": {
       "model_id": "b7f55bd1add54e12b9211cb681445e9d",
       "version_major": 2,
       "version_minor": 0
      },
      "text/plain": [
       "  0%|          | 0/12 [00:00<?, ?it/s]"
      ]
     },
     "metadata": {},
     "output_type": "display_data"
    },
    {
     "name": "stdout",
     "output_type": "stream",
     "text": [
      "Epoch:  73000\n",
      "Recall@10:  0.307\n",
      "NDCG:  0.14\n",
      "Train Loss:  4.0196\n",
      "Val Loss:  [4.6703 4.7307 4.699  4.7857 4.7479 4.7074 4.6118 4.7143 4.6665 4.7119\n",
      " 4.7397 4.6472]\n"
     ]
    },
    {
     "data": {
      "application/vnd.jupyter.widget-view+json": {
       "model_id": "5dda5ac0fc7b402f952de3c0d2b23b26",
       "version_major": 2,
       "version_minor": 0
      },
      "text/plain": [
       "  0%|          | 0/12 [00:00<?, ?it/s]"
      ]
     },
     "metadata": {},
     "output_type": "display_data"
    },
    {
     "name": "stdout",
     "output_type": "stream",
     "text": [
      "Epoch:  73500\n",
      "Recall@10:  0.305\n",
      "NDCG:  0.139\n",
      "Train Loss:  4.0969\n",
      "Val Loss:  [4.7513 4.7357 4.722  4.7534 4.7322 4.7438 4.5638 4.7149 4.6824 4.7273\n",
      " 4.709  4.7278]\n"
     ]
    },
    {
     "data": {
      "application/vnd.jupyter.widget-view+json": {
       "model_id": "3234c8715dc24dccbafa7f5c7af168c3",
       "version_major": 2,
       "version_minor": 0
      },
      "text/plain": [
       "  0%|          | 0/12 [00:00<?, ?it/s]"
      ]
     },
     "metadata": {},
     "output_type": "display_data"
    },
    {
     "name": "stdout",
     "output_type": "stream",
     "text": [
      "Epoch:  74000\n",
      "Recall@10:  0.306\n",
      "NDCG:  0.139\n",
      "Train Loss:  3.9985\n",
      "Val Loss:  [4.7816 4.7461 4.7055 4.6926 4.6995 4.7143 4.7103 4.6604 4.653  4.7677\n",
      " 4.6577 4.6809]\n"
     ]
    },
    {
     "data": {
      "application/vnd.jupyter.widget-view+json": {
       "model_id": "55e2f9ea918542869bed860c9f4ebd45",
       "version_major": 2,
       "version_minor": 0
      },
      "text/plain": [
       "  0%|          | 0/12 [00:00<?, ?it/s]"
      ]
     },
     "metadata": {},
     "output_type": "display_data"
    },
    {
     "name": "stdout",
     "output_type": "stream",
     "text": [
      "Epoch:  74500\n",
      "Recall@10:  0.306\n",
      "NDCG:  0.139\n",
      "Train Loss:  4.1217\n",
      "Val Loss:  [4.6659 4.8496 4.8311 4.7174 4.6743 4.6628 4.7949 4.6394 4.7554 4.6041\n",
      " 4.6746 4.6834]\n"
     ]
    },
    {
     "data": {
      "application/vnd.jupyter.widget-view+json": {
       "model_id": "2a3bd081e75f49eba28a7040f358db87",
       "version_major": 2,
       "version_minor": 0
      },
      "text/plain": [
       "  0%|          | 0/12 [00:00<?, ?it/s]"
      ]
     },
     "metadata": {},
     "output_type": "display_data"
    },
    {
     "name": "stdout",
     "output_type": "stream",
     "text": [
      "Epoch:  75000\n",
      "Recall@10:  0.306\n",
      "NDCG:  0.139\n",
      "Train Loss:  4.1132\n",
      "Val Loss:  [4.6427 4.7162 4.6998 4.7521 4.7162 4.8045 4.7506 4.6598 4.7047 4.6739\n",
      " 4.7095 4.6714]\n"
     ]
    },
    {
     "data": {
      "application/vnd.jupyter.widget-view+json": {
       "model_id": "faaa6a04e9194d07b6f4e4ab39662904",
       "version_major": 2,
       "version_minor": 0
      },
      "text/plain": [
       "  0%|          | 0/12 [00:00<?, ?it/s]"
      ]
     },
     "metadata": {},
     "output_type": "display_data"
    },
    {
     "name": "stdout",
     "output_type": "stream",
     "text": [
      "Epoch:  75500\n",
      "Recall@10:  0.306\n",
      "NDCG:  0.139\n",
      "Train Loss:  4.1016\n",
      "Val Loss:  [4.684  4.6379 4.7099 4.7339 4.7837 4.6884 4.737  4.7153 4.7168 4.6978\n",
      " 4.7147 4.6502]\n"
     ]
    },
    {
     "data": {
      "application/vnd.jupyter.widget-view+json": {
       "model_id": "f0da5226007c4a33896ac7d111137403",
       "version_major": 2,
       "version_minor": 0
      },
      "text/plain": [
       "  0%|          | 0/12 [00:00<?, ?it/s]"
      ]
     },
     "metadata": {},
     "output_type": "display_data"
    },
    {
     "name": "stdout",
     "output_type": "stream",
     "text": [
      "Epoch:  76000\n",
      "Recall@10:  0.306\n",
      "NDCG:  0.139\n",
      "Train Loss:  3.9856\n",
      "Val Loss:  [4.619  4.7963 4.6768 4.675  4.6676 4.7036 4.8037 4.733  4.7992 4.7218\n",
      " 4.6581 4.6988]\n"
     ]
    },
    {
     "data": {
      "application/vnd.jupyter.widget-view+json": {
       "model_id": "d81d9d961d0a4c2b8f9a64fb684806b3",
       "version_major": 2,
       "version_minor": 0
      },
      "text/plain": [
       "  0%|          | 0/12 [00:00<?, ?it/s]"
      ]
     },
     "metadata": {},
     "output_type": "display_data"
    },
    {
     "name": "stdout",
     "output_type": "stream",
     "text": [
      "Epoch:  76500\n",
      "Recall@10:  0.307\n",
      "NDCG:  0.14\n",
      "Train Loss:  4.0301\n",
      "Val Loss:  [4.6868 4.7435 4.6933 4.7253 4.7412 4.6696 4.7235 4.776  4.7528 4.617\n",
      " 4.7167 4.6997]\n"
     ]
    },
    {
     "data": {
      "application/vnd.jupyter.widget-view+json": {
       "model_id": "877cb5118a1544b48bf9534554ebb1e5",
       "version_major": 2,
       "version_minor": 0
      },
      "text/plain": [
       "  0%|          | 0/12 [00:00<?, ?it/s]"
      ]
     },
     "metadata": {},
     "output_type": "display_data"
    },
    {
     "name": "stdout",
     "output_type": "stream",
     "text": [
      "Epoch:  77000\n",
      "Recall@10:  0.307\n",
      "NDCG:  0.139\n",
      "Train Loss:  4.1614\n",
      "Val Loss:  [4.6633 4.7314 4.7359 4.7062 4.7311 4.7898 4.6882 4.7796 4.6394 4.6898\n",
      " 4.6776 4.7441]\n"
     ]
    },
    {
     "data": {
      "application/vnd.jupyter.widget-view+json": {
       "model_id": "60ae92f58a8349828497ff2a087b37a7",
       "version_major": 2,
       "version_minor": 0
      },
      "text/plain": [
       "  0%|          | 0/12 [00:00<?, ?it/s]"
      ]
     },
     "metadata": {},
     "output_type": "display_data"
    },
    {
     "name": "stdout",
     "output_type": "stream",
     "text": [
      "Epoch:  77500\n",
      "Recall@10:  0.306\n",
      "NDCG:  0.139\n",
      "Train Loss:  4.1143\n",
      "Val Loss:  [4.7884 4.6434 4.6973 4.7337 4.6661 4.6303 4.7184 4.7385 4.7259 4.7737\n",
      " 4.7278 4.6812]\n"
     ]
    },
    {
     "data": {
      "application/vnd.jupyter.widget-view+json": {
       "model_id": "2421a4db86eb4d99b318787908c75d61",
       "version_major": 2,
       "version_minor": 0
      },
      "text/plain": [
       "  0%|          | 0/12 [00:00<?, ?it/s]"
      ]
     },
     "metadata": {},
     "output_type": "display_data"
    },
    {
     "name": "stdout",
     "output_type": "stream",
     "text": [
      "Epoch:  78500\n",
      "Recall@10:  0.307\n",
      "NDCG:  0.139\n",
      "Train Loss:  3.9814\n",
      "Val Loss:  [4.7429 4.6351 4.7065 4.6818 4.7497 4.7018 4.709  4.7027 4.7579 4.6563\n",
      " 4.6855 4.7592]\n"
     ]
    },
    {
     "data": {
      "application/vnd.jupyter.widget-view+json": {
       "model_id": "9f430fbf55aa49228c081bc91f36a945",
       "version_major": 2,
       "version_minor": 0
      },
      "text/plain": [
       "  0%|          | 0/12 [00:00<?, ?it/s]"
      ]
     },
     "metadata": {},
     "output_type": "display_data"
    },
    {
     "name": "stdout",
     "output_type": "stream",
     "text": [
      "Epoch:  79000\n",
      "Recall@10:  0.308\n",
      "NDCG:  0.14\n",
      "Train Loss:  3.9969\n",
      "Val Loss:  [4.6961 4.6991 4.7196 4.6691 4.6888 4.694  4.6727 4.7713 4.6918 4.7347\n",
      " 4.7498 4.7058]\n"
     ]
    },
    {
     "data": {
      "application/vnd.jupyter.widget-view+json": {
       "model_id": "e870c2e4c1a0481faad426a503df03d3",
       "version_major": 2,
       "version_minor": 0
      },
      "text/plain": [
       "  0%|          | 0/12 [00:00<?, ?it/s]"
      ]
     },
     "metadata": {},
     "output_type": "display_data"
    },
    {
     "name": "stdout",
     "output_type": "stream",
     "text": [
      "Epoch:  79500\n",
      "Recall@10:  0.306\n",
      "NDCG:  0.139\n",
      "Train Loss:  3.8535\n",
      "Val Loss:  [4.7268 4.6205 4.6754 4.7473 4.7478 4.6757 4.7097 4.796  4.6663 4.655\n",
      " 4.6898 4.8049]\n"
     ]
    },
    {
     "data": {
      "application/vnd.jupyter.widget-view+json": {
       "model_id": "fe36ff249b5247ecaca9d247a13acdff",
       "version_major": 2,
       "version_minor": 0
      },
      "text/plain": [
       "  0%|          | 0/12 [00:00<?, ?it/s]"
      ]
     },
     "metadata": {},
     "output_type": "display_data"
    },
    {
     "name": "stdout",
     "output_type": "stream",
     "text": [
      "Epoch:  80000\n",
      "Recall@10:  0.308\n",
      "NDCG:  0.14\n",
      "Train Loss:  4.128\n",
      "Val Loss:  [4.7532 4.8037 4.6937 4.6725 4.7271 4.6621 4.7861 4.6385 4.7276 4.6973\n",
      " 4.6213 4.6827]\n"
     ]
    },
    {
     "data": {
      "application/vnd.jupyter.widget-view+json": {
       "model_id": "2060e6e4696a4c979ae7fd6f9cb77501",
       "version_major": 2,
       "version_minor": 0
      },
      "text/plain": [
       "  0%|          | 0/12 [00:00<?, ?it/s]"
      ]
     },
     "metadata": {},
     "output_type": "display_data"
    },
    {
     "name": "stdout",
     "output_type": "stream",
     "text": [
      "Epoch:  80500\n",
      "Recall@10:  0.306\n",
      "NDCG:  0.139\n",
      "Train Loss:  4.0402\n",
      "Val Loss:  [4.7324 4.7647 4.6794 4.7336 4.7167 4.5876 4.7095 4.6835 4.7452 4.656\n",
      " 4.7195 4.7827]\n"
     ]
    },
    {
     "data": {
      "application/vnd.jupyter.widget-view+json": {
       "model_id": "ef209576fd8a436a9d1a0885e10d8f5c",
       "version_major": 2,
       "version_minor": 0
      },
      "text/plain": [
       "  0%|          | 0/12 [00:00<?, ?it/s]"
      ]
     },
     "metadata": {},
     "output_type": "display_data"
    },
    {
     "name": "stdout",
     "output_type": "stream",
     "text": [
      "Epoch:  81000\n",
      "Recall@10:  0.306\n",
      "NDCG:  0.139\n",
      "Train Loss:  4.0047\n",
      "Val Loss:  [4.6015 4.8257 4.8361 4.6221 4.6912 4.6909 4.6913 4.7969 4.6485 4.7336\n",
      " 4.6955 4.7257]\n"
     ]
    },
    {
     "data": {
      "application/vnd.jupyter.widget-view+json": {
       "model_id": "a014a2af692843b2bf751737e1a30cb4",
       "version_major": 2,
       "version_minor": 0
      },
      "text/plain": [
       "  0%|          | 0/12 [00:00<?, ?it/s]"
      ]
     },
     "metadata": {},
     "output_type": "display_data"
    },
    {
     "name": "stdout",
     "output_type": "stream",
     "text": [
      "Epoch:  81500\n",
      "Recall@10:  0.308\n",
      "NDCG:  0.14\n",
      "Train Loss:  3.9645\n",
      "Val Loss:  [4.7342 4.7352 4.6428 4.7336 4.6846 4.6742 4.6975 4.8144 4.7077 4.7178\n",
      " 4.7258 4.513 ]\n"
     ]
    },
    {
     "data": {
      "application/vnd.jupyter.widget-view+json": {
       "model_id": "6b23c1ed7363401d96290ecee5418b0a",
       "version_major": 2,
       "version_minor": 0
      },
      "text/plain": [
       "  0%|          | 0/12 [00:00<?, ?it/s]"
      ]
     },
     "metadata": {},
     "output_type": "display_data"
    },
    {
     "name": "stdout",
     "output_type": "stream",
     "text": [
      "Epoch:  82000\n",
      "Recall@10:  0.307\n",
      "NDCG:  0.14\n",
      "Train Loss:  3.9709\n",
      "Val Loss:  [4.7179 4.7642 4.6354 4.7371 4.6884 4.6845 4.7883 4.7035 4.6769 4.7097\n",
      " 4.6    4.6816]\n"
     ]
    },
    {
     "data": {
      "application/vnd.jupyter.widget-view+json": {
       "model_id": "6c8c45ba929c4544bd19e82c8d2bf79f",
       "version_major": 2,
       "version_minor": 0
      },
      "text/plain": [
       "  0%|          | 0/12 [00:00<?, ?it/s]"
      ]
     },
     "metadata": {},
     "output_type": "display_data"
    },
    {
     "name": "stdout",
     "output_type": "stream",
     "text": [
      "Epoch:  82500\n",
      "Recall@10:  0.306\n",
      "NDCG:  0.139\n",
      "Train Loss:  4.2136\n",
      "Val Loss:  [4.7457 4.8034 4.6689 4.7643 4.7198 4.6222 4.7085 4.6949 4.7269 4.6842\n",
      " 4.7403 4.6666]\n"
     ]
    },
    {
     "data": {
      "application/vnd.jupyter.widget-view+json": {
       "model_id": "e0e81e5b582e4406ab5837f193dc4c64",
       "version_major": 2,
       "version_minor": 0
      },
      "text/plain": [
       "  0%|          | 0/12 [00:00<?, ?it/s]"
      ]
     },
     "metadata": {},
     "output_type": "display_data"
    },
    {
     "name": "stdout",
     "output_type": "stream",
     "text": [
      "Epoch:  83000\n",
      "Recall@10:  0.308\n",
      "NDCG:  0.14\n",
      "Train Loss:  4.0491\n",
      "Val Loss:  [4.7375 4.6494 4.8116 4.6921 4.7505 4.7366 4.6499 4.7024 4.5973 4.6828\n",
      " 4.7442 4.6825]\n"
     ]
    },
    {
     "data": {
      "application/vnd.jupyter.widget-view+json": {
       "model_id": "fa6b9f8df27d41d08f1179efd9c514cf",
       "version_major": 2,
       "version_minor": 0
      },
      "text/plain": [
       "  0%|          | 0/12 [00:00<?, ?it/s]"
      ]
     },
     "metadata": {},
     "output_type": "display_data"
    },
    {
     "name": "stdout",
     "output_type": "stream",
     "text": [
      "Epoch:  83500\n",
      "Recall@10:  0.307\n",
      "NDCG:  0.14\n",
      "Train Loss:  4.0502\n",
      "Val Loss:  [4.7851 4.7345 4.6882 4.6351 4.6417 4.7365 4.8644 4.746  4.6391 4.6474\n",
      " 4.6774 4.6758]\n"
     ]
    },
    {
     "data": {
      "application/vnd.jupyter.widget-view+json": {
       "model_id": "dcb89f50400a4265baaafc5182f55916",
       "version_major": 2,
       "version_minor": 0
      },
      "text/plain": [
       "  0%|          | 0/12 [00:00<?, ?it/s]"
      ]
     },
     "metadata": {},
     "output_type": "display_data"
    },
    {
     "name": "stdout",
     "output_type": "stream",
     "text": [
      "Epoch:  84000\n",
      "Recall@10:  0.306\n",
      "NDCG:  0.139\n",
      "Train Loss:  4.0542\n",
      "Val Loss:  [4.6842 4.6489 4.7608 4.7502 4.6802 4.6813 4.6716 4.6429 4.7824 4.7279\n",
      " 4.7541 4.735 ]\n"
     ]
    },
    {
     "data": {
      "application/vnd.jupyter.widget-view+json": {
       "model_id": "a0bb77e1a9364fe5afe643c13c90ad1e",
       "version_major": 2,
       "version_minor": 0
      },
      "text/plain": [
       "  0%|          | 0/12 [00:00<?, ?it/s]"
      ]
     },
     "metadata": {},
     "output_type": "display_data"
    },
    {
     "name": "stdout",
     "output_type": "stream",
     "text": [
      "Epoch:  84500\n",
      "Recall@10:  0.308\n",
      "NDCG:  0.14\n",
      "Train Loss:  3.9295\n",
      "Val Loss:  [4.7569 4.6107 4.8002 4.6307 4.7542 4.643  4.7245 4.7255 4.7343 4.6867\n",
      " 4.7029 4.6611]\n"
     ]
    },
    {
     "data": {
      "application/vnd.jupyter.widget-view+json": {
       "model_id": "5c0f53c3431b449088a4b0fbb54fdf96",
       "version_major": 2,
       "version_minor": 0
      },
      "text/plain": [
       "  0%|          | 0/12 [00:00<?, ?it/s]"
      ]
     },
     "metadata": {},
     "output_type": "display_data"
    },
    {
     "name": "stdout",
     "output_type": "stream",
     "text": [
      "Epoch:  85000\n",
      "Recall@10:  0.308\n",
      "NDCG:  0.14\n",
      "Train Loss:  4.1577\n",
      "Val Loss:  [4.7002 4.6994 4.7636 4.698  4.6798 4.7579 4.7198 4.662  4.7032 4.6765\n",
      " 4.6571 4.6573]\n"
     ]
    },
    {
     "data": {
      "application/vnd.jupyter.widget-view+json": {
       "model_id": "84b1c84eb0c64f49b4efb6ace6c5c6fa",
       "version_major": 2,
       "version_minor": 0
      },
      "text/plain": [
       "  0%|          | 0/12 [00:00<?, ?it/s]"
      ]
     },
     "metadata": {},
     "output_type": "display_data"
    },
    {
     "name": "stdout",
     "output_type": "stream",
     "text": [
      "Epoch:  85500\n",
      "Recall@10:  0.305\n",
      "NDCG:  0.139\n",
      "Train Loss:  4.0901\n",
      "Val Loss:  [4.7631 4.7015 4.7282 4.717  4.7457 4.6685 4.6713 4.7577 4.7316 4.6834\n",
      " 4.6571 4.7193]\n"
     ]
    },
    {
     "data": {
      "application/vnd.jupyter.widget-view+json": {
       "model_id": "621031d98981411d88e963f6df41629f",
       "version_major": 2,
       "version_minor": 0
      },
      "text/plain": [
       "  0%|          | 0/12 [00:00<?, ?it/s]"
      ]
     },
     "metadata": {},
     "output_type": "display_data"
    },
    {
     "name": "stdout",
     "output_type": "stream",
     "text": [
      "Epoch:  86000\n",
      "Recall@10:  0.308\n",
      "NDCG:  0.14\n",
      "Train Loss:  3.9303\n",
      "Val Loss:  [4.7718 4.6504 4.7392 4.7142 4.6992 4.7716 4.7118 4.7599 4.6451 4.6563\n",
      " 4.7036 4.6389]\n"
     ]
    },
    {
     "data": {
      "application/vnd.jupyter.widget-view+json": {
       "model_id": "2e8fe15dabad487c8771123fabc29456",
       "version_major": 2,
       "version_minor": 0
      },
      "text/plain": [
       "  0%|          | 0/12 [00:00<?, ?it/s]"
      ]
     },
     "metadata": {},
     "output_type": "display_data"
    },
    {
     "name": "stdout",
     "output_type": "stream",
     "text": [
      "Epoch:  86500\n",
      "Recall@10:  0.308\n",
      "NDCG:  0.14\n",
      "Train Loss:  4.0447\n",
      "Val Loss:  [4.7534 4.7582 4.7703 4.7192 4.6686 4.6681 4.684  4.6821 4.626  4.7024\n",
      " 4.628  4.737 ]\n"
     ]
    },
    {
     "data": {
      "application/vnd.jupyter.widget-view+json": {
       "model_id": "bd791368fa2e404e8261b6fcb69975a5",
       "version_major": 2,
       "version_minor": 0
      },
      "text/plain": [
       "  0%|          | 0/12 [00:00<?, ?it/s]"
      ]
     },
     "metadata": {},
     "output_type": "display_data"
    },
    {
     "name": "stdout",
     "output_type": "stream",
     "text": [
      "Epoch:  87000\n",
      "Recall@10:  0.308\n",
      "NDCG:  0.14\n",
      "Train Loss:  3.9961\n",
      "Val Loss:  [4.7633 4.618  4.6654 4.7007 4.699  4.6761 4.7334 4.7105 4.6996 4.7767\n",
      " 4.7434 4.7296]\n"
     ]
    },
    {
     "data": {
      "application/vnd.jupyter.widget-view+json": {
       "model_id": "9d2fd9da72114ff9821709562d2a2004",
       "version_major": 2,
       "version_minor": 0
      },
      "text/plain": [
       "  0%|          | 0/12 [00:00<?, ?it/s]"
      ]
     },
     "metadata": {},
     "output_type": "display_data"
    },
    {
     "name": "stdout",
     "output_type": "stream",
     "text": [
      "Epoch:  87500\n",
      "Recall@10:  0.308\n",
      "NDCG:  0.14\n",
      "Train Loss:  4.1341\n",
      "Val Loss:  [4.5956 4.7386 4.6856 4.6741 4.706  4.779  4.7033 4.7753 4.7218 4.6401\n",
      " 4.6499 4.7729]\n"
     ]
    },
    {
     "data": {
      "application/vnd.jupyter.widget-view+json": {
       "model_id": "a726bdf9a54e44348193a7cb63288798",
       "version_major": 2,
       "version_minor": 0
      },
      "text/plain": [
       "  0%|          | 0/12 [00:00<?, ?it/s]"
      ]
     },
     "metadata": {},
     "output_type": "display_data"
    },
    {
     "name": "stdout",
     "output_type": "stream",
     "text": [
      "Epoch:  88000\n",
      "Recall@10:  0.307\n",
      "NDCG:  0.14\n",
      "Train Loss:  4.0721\n",
      "Val Loss:  [4.7451 4.6979 4.7331 4.6402 4.7153 4.7615 4.6833 4.6455 4.7274 4.6849\n",
      " 4.7037 4.7258]\n"
     ]
    },
    {
     "data": {
      "application/vnd.jupyter.widget-view+json": {
       "model_id": "c0f8cf5d6cb74c879f594944fd12b9eb",
       "version_major": 2,
       "version_minor": 0
      },
      "text/plain": [
       "  0%|          | 0/12 [00:00<?, ?it/s]"
      ]
     },
     "metadata": {},
     "output_type": "display_data"
    },
    {
     "name": "stdout",
     "output_type": "stream",
     "text": [
      "Epoch:  88500\n",
      "Recall@10:  0.308\n",
      "NDCG:  0.14\n",
      "Train Loss:  4.1923\n",
      "Val Loss:  [4.6816 4.7629 4.7226 4.6918 4.6881 4.7019 4.7059 4.6607 4.7384 4.7071\n",
      " 4.7777 4.5831]\n"
     ]
    },
    {
     "data": {
      "application/vnd.jupyter.widget-view+json": {
       "model_id": "367c1991a16946a0a0b4699c0fb8b73e",
       "version_major": 2,
       "version_minor": 0
      },
      "text/plain": [
       "  0%|          | 0/12 [00:00<?, ?it/s]"
      ]
     },
     "metadata": {},
     "output_type": "display_data"
    },
    {
     "name": "stdout",
     "output_type": "stream",
     "text": [
      "Epoch:  89000\n",
      "Recall@10:  0.309\n",
      "NDCG:  0.14\n",
      "Train Loss:  3.9305\n",
      "Val Loss:  [4.6291 4.7487 4.6267 4.7537 4.7537 4.7449 4.7464 4.6894 4.6873 4.6962\n",
      " 4.6355 4.7561]\n"
     ]
    },
    {
     "data": {
      "application/vnd.jupyter.widget-view+json": {
       "model_id": "2005d1cc1cf94dc8919e367f50abf27d",
       "version_major": 2,
       "version_minor": 0
      },
      "text/plain": [
       "  0%|          | 0/12 [00:00<?, ?it/s]"
      ]
     },
     "metadata": {},
     "output_type": "display_data"
    },
    {
     "name": "stdout",
     "output_type": "stream",
     "text": [
      "Epoch:  89500\n",
      "Recall@10:  0.307\n",
      "NDCG:  0.139\n",
      "Train Loss:  4.0738\n",
      "Val Loss:  [4.7549 4.7204 4.7213 4.7258 4.6039 4.6491 4.6764 4.7731 4.6648 4.6964\n",
      " 4.7853 4.6829]\n"
     ]
    },
    {
     "data": {
      "application/vnd.jupyter.widget-view+json": {
       "model_id": "d99cec442aec490e97b04899789b0f4a",
       "version_major": 2,
       "version_minor": 0
      },
      "text/plain": [
       "  0%|          | 0/12 [00:00<?, ?it/s]"
      ]
     },
     "metadata": {},
     "output_type": "display_data"
    },
    {
     "name": "stdout",
     "output_type": "stream",
     "text": [
      "Epoch:  90000\n",
      "Recall@10:  0.308\n",
      "NDCG:  0.14\n",
      "Train Loss:  4.0761\n",
      "Val Loss:  [4.6931 4.7233 4.6742 4.7686 4.6391 4.6592 4.7338 4.7319 4.7329 4.7534\n",
      " 4.7011 4.6931]\n"
     ]
    },
    {
     "data": {
      "application/vnd.jupyter.widget-view+json": {
       "model_id": "e90d4351e73243c79b3b6c3ca2da42e8",
       "version_major": 2,
       "version_minor": 0
      },
      "text/plain": [
       "  0%|          | 0/12 [00:00<?, ?it/s]"
      ]
     },
     "metadata": {},
     "output_type": "display_data"
    },
    {
     "name": "stdout",
     "output_type": "stream",
     "text": [
      "Epoch:  90500\n",
      "Recall@10:  0.307\n",
      "NDCG:  0.14\n",
      "Train Loss:  4.1622\n",
      "Val Loss:  [4.7369 4.612  4.7565 4.7251 4.6707 4.7628 4.6968 4.7389 4.6358 4.6722\n",
      " 4.7793 4.643 ]\n"
     ]
    },
    {
     "data": {
      "application/vnd.jupyter.widget-view+json": {
       "model_id": "b94e953f38394c6b8234fae9e2d2a949",
       "version_major": 2,
       "version_minor": 0
      },
      "text/plain": [
       "  0%|          | 0/12 [00:00<?, ?it/s]"
      ]
     },
     "metadata": {},
     "output_type": "display_data"
    },
    {
     "name": "stdout",
     "output_type": "stream",
     "text": [
      "Epoch:  91000\n",
      "Recall@10:  0.306\n",
      "NDCG:  0.139\n",
      "Train Loss:  4.1119\n",
      "Val Loss:  [4.6481 4.7036 4.715  4.6901 4.79   4.705  4.7597 4.69   4.6779 4.6726\n",
      " 4.6611 4.7841]\n"
     ]
    },
    {
     "data": {
      "application/vnd.jupyter.widget-view+json": {
       "model_id": "1d0783f2dc4d42d98ca9f5b030191cd0",
       "version_major": 2,
       "version_minor": 0
      },
      "text/plain": [
       "  0%|          | 0/12 [00:00<?, ?it/s]"
      ]
     },
     "metadata": {},
     "output_type": "display_data"
    },
    {
     "name": "stdout",
     "output_type": "stream",
     "text": [
      "Epoch:  91500\n",
      "Recall@10:  0.308\n",
      "NDCG:  0.14\n",
      "Train Loss:  3.9939\n",
      "Val Loss:  [4.7245 4.7164 4.6612 4.6701 4.6886 4.7462 4.729  4.673  4.7287 4.7127\n",
      " 4.6886 4.7171]\n"
     ]
    },
    {
     "data": {
      "application/vnd.jupyter.widget-view+json": {
       "model_id": "7d16308ae6da4e91b1eab3e95424d77d",
       "version_major": 2,
       "version_minor": 0
      },
      "text/plain": [
       "  0%|          | 0/12 [00:00<?, ?it/s]"
      ]
     },
     "metadata": {},
     "output_type": "display_data"
    },
    {
     "name": "stdout",
     "output_type": "stream",
     "text": [
      "Epoch:  92000\n",
      "Recall@10:  0.307\n",
      "NDCG:  0.139\n",
      "Train Loss:  3.9349\n",
      "Val Loss:  [4.7547 4.6913 4.6481 4.694  4.7941 4.6351 4.7359 4.6884 4.7179 4.6609\n",
      " 4.5987 4.8401]\n"
     ]
    },
    {
     "data": {
      "application/vnd.jupyter.widget-view+json": {
       "model_id": "d8eb179ffee34f2790c99f0cf2b62511",
       "version_major": 2,
       "version_minor": 0
      },
      "text/plain": [
       "  0%|          | 0/12 [00:00<?, ?it/s]"
      ]
     },
     "metadata": {},
     "output_type": "display_data"
    },
    {
     "name": "stdout",
     "output_type": "stream",
     "text": [
      "Epoch:  92500\n",
      "Recall@10:  0.307\n",
      "NDCG:  0.14\n",
      "Train Loss:  3.9731\n",
      "Val Loss:  [4.6964 4.7572 4.643  4.7548 4.6603 4.6424 4.7798 4.6603 4.718  4.6264\n",
      " 4.6707 4.791 ]\n"
     ]
    },
    {
     "data": {
      "application/vnd.jupyter.widget-view+json": {
       "model_id": "427325da96e0470598372dbd02a7b093",
       "version_major": 2,
       "version_minor": 0
      },
      "text/plain": [
       "  0%|          | 0/12 [00:00<?, ?it/s]"
      ]
     },
     "metadata": {},
     "output_type": "display_data"
    },
    {
     "name": "stdout",
     "output_type": "stream",
     "text": [
      "Epoch:  93000\n",
      "Recall@10:  0.308\n",
      "NDCG:  0.14\n",
      "Train Loss:  4.0142\n",
      "Val Loss:  [4.5793 4.7643 4.6594 4.7921 4.6927 4.6712 4.6134 4.7421 4.7771 4.7047\n",
      " 4.7741 4.6606]\n"
     ]
    },
    {
     "data": {
      "application/vnd.jupyter.widget-view+json": {
       "model_id": "6cca09df7c2a49118fb97268f86df338",
       "version_major": 2,
       "version_minor": 0
      },
      "text/plain": [
       "  0%|          | 0/12 [00:00<?, ?it/s]"
      ]
     },
     "metadata": {},
     "output_type": "display_data"
    },
    {
     "name": "stdout",
     "output_type": "stream",
     "text": [
      "Epoch:  93500\n",
      "Recall@10:  0.308\n",
      "NDCG:  0.14\n",
      "Train Loss:  4.0124\n",
      "Val Loss:  [4.7218 4.6781 4.7029 4.6122 4.7385 4.6584 4.6894 4.8343 4.6786 4.6904\n",
      " 4.7347 4.6829]\n"
     ]
    },
    {
     "data": {
      "application/vnd.jupyter.widget-view+json": {
       "model_id": "20f913846cbf41b4a353e6e381c9d099",
       "version_major": 2,
       "version_minor": 0
      },
      "text/plain": [
       "  0%|          | 0/12 [00:00<?, ?it/s]"
      ]
     },
     "metadata": {},
     "output_type": "display_data"
    },
    {
     "name": "stdout",
     "output_type": "stream",
     "text": [
      "Epoch:  94000\n",
      "Recall@10:  0.308\n",
      "NDCG:  0.14\n",
      "Train Loss:  4.0916\n",
      "Val Loss:  [4.6904 4.7086 4.6894 4.7744 4.6372 4.6675 4.721  4.6562 4.713  4.759\n",
      " 4.7182 4.7078]\n"
     ]
    },
    {
     "data": {
      "application/vnd.jupyter.widget-view+json": {
       "model_id": "225eaa0ab1184f8485c9316e26c3b029",
       "version_major": 2,
       "version_minor": 0
      },
      "text/plain": [
       "  0%|          | 0/12 [00:00<?, ?it/s]"
      ]
     },
     "metadata": {},
     "output_type": "display_data"
    },
    {
     "name": "stdout",
     "output_type": "stream",
     "text": [
      "Epoch:  94500\n",
      "Recall@10:  0.309\n",
      "NDCG:  0.14\n",
      "Train Loss:  3.9738\n",
      "Val Loss:  [4.7411 4.6393 4.7742 4.7248 4.7423 4.7194 4.7198 4.7624 4.6787 4.6276\n",
      " 4.6948 4.5682]\n"
     ]
    },
    {
     "data": {
      "application/vnd.jupyter.widget-view+json": {
       "model_id": "64cf5940590447d7beb6285e0888f03c",
       "version_major": 2,
       "version_minor": 0
      },
      "text/plain": [
       "  0%|          | 0/12 [00:00<?, ?it/s]"
      ]
     },
     "metadata": {},
     "output_type": "display_data"
    },
    {
     "name": "stdout",
     "output_type": "stream",
     "text": [
      "Epoch:  95000\n",
      "Recall@10:  0.306\n",
      "NDCG:  0.139\n",
      "Train Loss:  3.9941\n",
      "Val Loss:  [4.6287 4.7604 4.7207 4.7536 4.7546 4.5917 4.6563 4.6606 4.6637 4.7461\n",
      " 4.7621 4.7954]\n"
     ]
    },
    {
     "data": {
      "application/vnd.jupyter.widget-view+json": {
       "model_id": "b534ecbeac644e2fb4d3b1793ba40ab3",
       "version_major": 2,
       "version_minor": 0
      },
      "text/plain": [
       "  0%|          | 0/12 [00:00<?, ?it/s]"
      ]
     },
     "metadata": {},
     "output_type": "display_data"
    },
    {
     "name": "stdout",
     "output_type": "stream",
     "text": [
      "Epoch:  95500\n",
      "Recall@10:  0.309\n",
      "NDCG:  0.14\n",
      "Train Loss:  4.0204\n",
      "Val Loss:  [4.6486 4.6743 4.7244 4.7574 4.6894 4.8283 4.6785 4.6661 4.6772 4.6609\n",
      " 4.7246 4.6615]\n"
     ]
    },
    {
     "data": {
      "application/vnd.jupyter.widget-view+json": {
       "model_id": "fc7ee6566a284c8dab612d40bdbbaed4",
       "version_major": 2,
       "version_minor": 0
      },
      "text/plain": [
       "  0%|          | 0/12 [00:00<?, ?it/s]"
      ]
     },
     "metadata": {},
     "output_type": "display_data"
    },
    {
     "name": "stdout",
     "output_type": "stream",
     "text": [
      "Epoch:  96000\n",
      "Recall@10:  0.308\n",
      "NDCG:  0.14\n",
      "Train Loss:  4.0239\n",
      "Val Loss:  [4.7046 4.7406 4.65   4.7222 4.5145 4.7099 4.7995 4.7517 4.7015 4.634\n",
      " 4.7861 4.6779]\n"
     ]
    },
    {
     "data": {
      "application/vnd.jupyter.widget-view+json": {
       "model_id": "9c24aa98018a409fa8a708cd270cde35",
       "version_major": 2,
       "version_minor": 0
      },
      "text/plain": [
       "  0%|          | 0/12 [00:00<?, ?it/s]"
      ]
     },
     "metadata": {},
     "output_type": "display_data"
    },
    {
     "name": "stdout",
     "output_type": "stream",
     "text": [
      "Epoch:  96500\n",
      "Recall@10:  0.308\n",
      "NDCG:  0.14\n",
      "Train Loss:  4.0679\n",
      "Val Loss:  [4.7199 4.6764 4.6409 4.653  4.7594 4.6506 4.7524 4.6239 4.7505 4.7131\n",
      " 4.7452 4.775 ]\n"
     ]
    },
    {
     "data": {
      "application/vnd.jupyter.widget-view+json": {
       "model_id": "1f0ee3f5f2cb480ca90022e8157d799f",
       "version_major": 2,
       "version_minor": 0
      },
      "text/plain": [
       "  0%|          | 0/12 [00:00<?, ?it/s]"
      ]
     },
     "metadata": {},
     "output_type": "display_data"
    },
    {
     "name": "stdout",
     "output_type": "stream",
     "text": [
      "Epoch:  97000\n",
      "Recall@10:  0.31\n",
      "NDCG:  0.141\n",
      "Train Loss:  4.1157\n",
      "Val Loss:  [4.7409 4.7855 4.6118 4.7659 4.7281 4.7068 4.7346 4.7577 4.7226 4.6403\n",
      " 4.6959 4.5334]\n"
     ]
    },
    {
     "data": {
      "application/vnd.jupyter.widget-view+json": {
       "model_id": "b864144e0e354ec5a2bcabbb715d1fe9",
       "version_major": 2,
       "version_minor": 0
      },
      "text/plain": [
       "  0%|          | 0/12 [00:00<?, ?it/s]"
      ]
     },
     "metadata": {},
     "output_type": "display_data"
    },
    {
     "name": "stdout",
     "output_type": "stream",
     "text": [
      "Epoch:  97500\n",
      "Recall@10:  0.309\n",
      "NDCG:  0.14\n",
      "Train Loss:  3.9493\n",
      "Val Loss:  [4.6355 4.6021 4.7205 4.7525 4.6455 4.7656 4.6584 4.7665 4.7243 4.7685\n",
      " 4.6782 4.6413]\n"
     ]
    },
    {
     "data": {
      "application/vnd.jupyter.widget-view+json": {
       "model_id": "392f7518237848538e11652e573a1944",
       "version_major": 2,
       "version_minor": 0
      },
      "text/plain": [
       "  0%|          | 0/12 [00:00<?, ?it/s]"
      ]
     },
     "metadata": {},
     "output_type": "display_data"
    },
    {
     "name": "stdout",
     "output_type": "stream",
     "text": [
      "Epoch:  98000\n",
      "Recall@10:  0.308\n",
      "NDCG:  0.14\n",
      "Train Loss:  3.9751\n",
      "Val Loss:  [4.7877 4.648  4.667  4.6569 4.7485 4.8098 4.735  4.7844 4.6634 4.6263\n",
      " 4.6864 4.6346]\n"
     ]
    },
    {
     "data": {
      "application/vnd.jupyter.widget-view+json": {
       "model_id": "c4b8d805cde945bbb49db6ee176d4c20",
       "version_major": 2,
       "version_minor": 0
      },
      "text/plain": [
       "  0%|          | 0/12 [00:00<?, ?it/s]"
      ]
     },
     "metadata": {},
     "output_type": "display_data"
    },
    {
     "ename": "KeyboardInterrupt",
     "evalue": "",
     "output_type": "error",
     "traceback": [
      "\u001b[0;31m---------------------------------------------------------------------------\u001b[0m",
      "\u001b[0;31mKeyboardInterrupt\u001b[0m                         Traceback (most recent call last)",
      "Cell \u001b[0;32mIn[14], line 53\u001b[0m\n\u001b[1;32m     49\u001b[0m                 recall_batch\u001b[38;5;241m.\u001b[39mappend(recall_k_seq(y_pred, y_val, k\u001b[38;5;241m=\u001b[39m\u001b[38;5;241m10\u001b[39m))\n\u001b[1;32m     50\u001b[0m \u001b[38;5;66;03m#                 print(\"done\")\u001b[39;00m\n\u001b[1;32m     51\u001b[0m \u001b[38;5;66;03m#                 print(y_pred.shape)\u001b[39;00m\n\u001b[1;32m     52\u001b[0m \u001b[38;5;66;03m#                 print(y_val.shape)\u001b[39;00m\n\u001b[0;32m---> 53\u001b[0m                 ndcg_batch\u001b[38;5;241m.\u001b[39mappend(\u001b[43mndcg_k_seq\u001b[49m\u001b[43m(\u001b[49m\u001b[43my_pred\u001b[49m\u001b[43m,\u001b[49m\u001b[43m \u001b[49m\u001b[43my_val\u001b[49m\u001b[43m)\u001b[49m)\n\u001b[1;32m     55\u001b[0m \u001b[38;5;66;03m#             print(counter, np.mean(recall_batch).round(3), np.round(loss.item(), 4), np.mean(val_losses).round(4))\u001b[39;00m\n\u001b[1;32m     56\u001b[0m             \u001b[38;5;28mprint\u001b[39m(\u001b[38;5;124m\"\u001b[39m\u001b[38;5;124mEpoch: \u001b[39m\u001b[38;5;124m\"\u001b[39m, counter)\n",
      "Cell \u001b[0;32mIn[2], line 39\u001b[0m, in \u001b[0;36mndcg_k_seq\u001b[0;34m(y_pred_seq, y_true_seq, k)\u001b[0m\n\u001b[1;32m     37\u001b[0m recs \u001b[38;5;241m=\u001b[39m []\n\u001b[1;32m     38\u001b[0m \u001b[38;5;28;01mfor\u001b[39;00m y_pred, y_true \u001b[38;5;129;01min\u001b[39;00m \u001b[38;5;28mzip\u001b[39m(y_pred_seq, y_true_seq):\n\u001b[0;32m---> 39\u001b[0m     recs\u001b[38;5;241m.\u001b[39mappend(\u001b[43mndcg_k\u001b[49m\u001b[43m(\u001b[49m\u001b[43my_pred\u001b[49m\u001b[43m,\u001b[49m\u001b[43m \u001b[49m\u001b[43my_true\u001b[49m\u001b[43m,\u001b[49m\u001b[43m \u001b[49m\u001b[43mk\u001b[49m\u001b[43m)\u001b[49m)\n\u001b[1;32m     40\u001b[0m \u001b[38;5;28;01mreturn\u001b[39;00m np\u001b[38;5;241m.\u001b[39mmean(recs)\n",
      "Cell \u001b[0;32mIn[2], line 24\u001b[0m, in \u001b[0;36mndcg_k\u001b[0;34m(y_pred, y_true, k)\u001b[0m\n\u001b[1;32m     22\u001b[0m     tl \u001b[38;5;241m=\u001b[39m [[el \u001b[38;5;241m==\u001b[39m true_label \u001b[38;5;28;01mfor\u001b[39;00m el \u001b[38;5;129;01min\u001b[39;00m preds]]\n\u001b[1;32m     23\u001b[0m     preds \u001b[38;5;241m=\u001b[39m [[\u001b[38;5;241m1\u001b[39m \u001b[38;5;28;01mfor\u001b[39;00m _ \u001b[38;5;129;01min\u001b[39;00m preds]]\n\u001b[0;32m---> 24\u001b[0m     results\u001b[38;5;241m.\u001b[39mappend(\u001b[43mndcg_score\u001b[49m\u001b[43m(\u001b[49m\u001b[43mtl\u001b[49m\u001b[43m,\u001b[49m\u001b[43m \u001b[49m\u001b[43mpreds\u001b[49m\u001b[43m)\u001b[49m)\n\u001b[1;32m     26\u001b[0m \u001b[38;5;28;01mreturn\u001b[39;00m np\u001b[38;5;241m.\u001b[39mmean(results)\n",
      "File \u001b[0;32m~/.pyenv/versions/3.9.5/lib/python3.9/site-packages/sklearn/metrics/_ranking.py:1653\u001b[0m, in \u001b[0;36mndcg_score\u001b[0;34m(y_true, y_score, k, sample_weight, ignore_ties)\u001b[0m\n\u001b[1;32m   1556\u001b[0m \u001b[38;5;250m\u001b[39m\u001b[38;5;124;03m\"\"\"Compute Normalized Discounted Cumulative Gain.\u001b[39;00m\n\u001b[1;32m   1557\u001b[0m \n\u001b[1;32m   1558\u001b[0m \u001b[38;5;124;03mSum the true scores ranked in the order induced by the predicted scores,\u001b[39;00m\n\u001b[0;32m   (...)\u001b[0m\n\u001b[1;32m   1650\u001b[0m \u001b[38;5;124;03m0.5...\u001b[39;00m\n\u001b[1;32m   1651\u001b[0m \u001b[38;5;124;03m\"\"\"\u001b[39;00m\n\u001b[1;32m   1652\u001b[0m y_true \u001b[38;5;241m=\u001b[39m check_array(y_true, ensure_2d\u001b[38;5;241m=\u001b[39m\u001b[38;5;28;01mFalse\u001b[39;00m)\n\u001b[0;32m-> 1653\u001b[0m y_score \u001b[38;5;241m=\u001b[39m \u001b[43mcheck_array\u001b[49m\u001b[43m(\u001b[49m\u001b[43my_score\u001b[49m\u001b[43m,\u001b[49m\u001b[43m \u001b[49m\u001b[43mensure_2d\u001b[49m\u001b[38;5;241;43m=\u001b[39;49m\u001b[38;5;28;43;01mFalse\u001b[39;49;00m\u001b[43m)\u001b[49m\n\u001b[1;32m   1654\u001b[0m check_consistent_length(y_true, y_score, sample_weight)\n\u001b[1;32m   1656\u001b[0m \u001b[38;5;28;01mif\u001b[39;00m y_true\u001b[38;5;241m.\u001b[39mmin() \u001b[38;5;241m<\u001b[39m \u001b[38;5;241m0\u001b[39m:\n\u001b[1;32m   1657\u001b[0m     \u001b[38;5;66;03m# TODO(1.4): Replace warning w/ ValueError\u001b[39;00m\n",
      "File \u001b[0;32m~/.pyenv/versions/3.9.5/lib/python3.9/site-packages/sklearn/utils/validation.py:879\u001b[0m, in \u001b[0;36mcheck_array\u001b[0;34m(array, accept_sparse, accept_large_sparse, dtype, order, copy, force_all_finite, ensure_2d, allow_nd, ensure_min_samples, ensure_min_features, estimator, input_name)\u001b[0m\n\u001b[1;32m    877\u001b[0m         array \u001b[38;5;241m=\u001b[39m xp\u001b[38;5;241m.\u001b[39mastype(array, dtype, copy\u001b[38;5;241m=\u001b[39m\u001b[38;5;28;01mFalse\u001b[39;00m)\n\u001b[1;32m    878\u001b[0m     \u001b[38;5;28;01melse\u001b[39;00m:\n\u001b[0;32m--> 879\u001b[0m         array \u001b[38;5;241m=\u001b[39m \u001b[43m_asarray_with_order\u001b[49m\u001b[43m(\u001b[49m\u001b[43marray\u001b[49m\u001b[43m,\u001b[49m\u001b[43m \u001b[49m\u001b[43morder\u001b[49m\u001b[38;5;241;43m=\u001b[39;49m\u001b[43morder\u001b[49m\u001b[43m,\u001b[49m\u001b[43m \u001b[49m\u001b[43mdtype\u001b[49m\u001b[38;5;241;43m=\u001b[39;49m\u001b[43mdtype\u001b[49m\u001b[43m,\u001b[49m\u001b[43m \u001b[49m\u001b[43mxp\u001b[49m\u001b[38;5;241;43m=\u001b[39;49m\u001b[43mxp\u001b[49m\u001b[43m)\u001b[49m\n\u001b[1;32m    880\u001b[0m \u001b[38;5;28;01mexcept\u001b[39;00m ComplexWarning \u001b[38;5;28;01mas\u001b[39;00m complex_warning:\n\u001b[1;32m    881\u001b[0m     \u001b[38;5;28;01mraise\u001b[39;00m \u001b[38;5;167;01mValueError\u001b[39;00m(\n\u001b[1;32m    882\u001b[0m         \u001b[38;5;124m\"\u001b[39m\u001b[38;5;124mComplex data not supported\u001b[39m\u001b[38;5;130;01m\\n\u001b[39;00m\u001b[38;5;132;01m{}\u001b[39;00m\u001b[38;5;130;01m\\n\u001b[39;00m\u001b[38;5;124m\"\u001b[39m\u001b[38;5;241m.\u001b[39mformat(array)\n\u001b[1;32m    883\u001b[0m     ) \u001b[38;5;28;01mfrom\u001b[39;00m \u001b[38;5;21;01mcomplex_warning\u001b[39;00m\n",
      "File \u001b[0;32m~/.pyenv/versions/3.9.5/lib/python3.9/site-packages/sklearn/utils/_array_api.py:185\u001b[0m, in \u001b[0;36m_asarray_with_order\u001b[0;34m(array, dtype, order, copy, xp)\u001b[0m\n\u001b[1;32m    182\u001b[0m     xp, _ \u001b[38;5;241m=\u001b[39m get_namespace(array)\n\u001b[1;32m    183\u001b[0m \u001b[38;5;28;01mif\u001b[39;00m xp\u001b[38;5;241m.\u001b[39m\u001b[38;5;18m__name__\u001b[39m \u001b[38;5;129;01min\u001b[39;00m {\u001b[38;5;124m\"\u001b[39m\u001b[38;5;124mnumpy\u001b[39m\u001b[38;5;124m\"\u001b[39m, \u001b[38;5;124m\"\u001b[39m\u001b[38;5;124mnumpy.array_api\u001b[39m\u001b[38;5;124m\"\u001b[39m}:\n\u001b[1;32m    184\u001b[0m     \u001b[38;5;66;03m# Use NumPy API to support order\u001b[39;00m\n\u001b[0;32m--> 185\u001b[0m     array \u001b[38;5;241m=\u001b[39m \u001b[43mnumpy\u001b[49m\u001b[38;5;241;43m.\u001b[39;49m\u001b[43masarray\u001b[49m\u001b[43m(\u001b[49m\u001b[43marray\u001b[49m\u001b[43m,\u001b[49m\u001b[43m \u001b[49m\u001b[43morder\u001b[49m\u001b[38;5;241;43m=\u001b[39;49m\u001b[43morder\u001b[49m\u001b[43m,\u001b[49m\u001b[43m \u001b[49m\u001b[43mdtype\u001b[49m\u001b[38;5;241;43m=\u001b[39;49m\u001b[43mdtype\u001b[49m\u001b[43m)\u001b[49m\n\u001b[1;32m    186\u001b[0m     \u001b[38;5;28;01mreturn\u001b[39;00m xp\u001b[38;5;241m.\u001b[39masarray(array, copy\u001b[38;5;241m=\u001b[39mcopy)\n\u001b[1;32m    187\u001b[0m \u001b[38;5;28;01melse\u001b[39;00m:\n",
      "\u001b[0;31mKeyboardInterrupt\u001b[0m: "
     ]
    }
   ],
   "source": [
    "dataset = TrainShiftedDataset(list(train.values()), max_length + 1, end_code)\n",
    "train_loader = torch.utils.data.DataLoader(dataset, batch_size=256, shuffle=True)\n",
    "\n",
    "val_dataset = ValidShiftedDataset(list(val.values()), max_length + 1, end_code)\n",
    "val_loader = torch.utils.data.DataLoader(val_dataset, batch_size=256, shuffle=True)\n",
    "\n",
    "# Using an Adam Optimizer with lr = 0.1\n",
    "loss_function = torch.nn.CrossEntropyLoss(ignore_index=end_code, reduction='mean')\n",
    "optimizer = torch.optim.Adam(model.parameters())\n",
    "\n",
    "epochs = 5000\n",
    "outputs = []\n",
    "losses = []\n",
    "\n",
    "counter = 0\n",
    "recall_list = []\n",
    "for epoch in range(epochs):\n",
    "    for X, y in train_loader:\n",
    "\n",
    "        optimizer.zero_grad()\n",
    "        \n",
    "        X = X.to(device)\n",
    "        y = y.to(device)\n",
    "\n",
    "        loss = loss_function(model.forward(X).view(-1, 3955), y.view(-1))\n",
    "\n",
    "        losses.append(loss.item())\n",
    "        loss.backward()\n",
    "         \n",
    "        optimizer.step()\n",
    "        \n",
    "        counter += 1\n",
    "        if counter % 500 == 0:\n",
    "            val_losses = []\n",
    "            recall_batch = []\n",
    "            ndcg_batch = []\n",
    "            for X_val, y_val in tqdm_notebook(val_loader):\n",
    "                \n",
    "                X_val = X_val.to(device)\n",
    "                y_val = y_val.to(device)\n",
    "                \n",
    "                y_pred = model.forward(X_val.long())\n",
    "#                 print(y_pred.shape)\n",
    "#                 print(y_val.shape)\n",
    "                \n",
    "                val_loss = loss_function(y_pred.view(-1, 3955), y_val.long().view(-1))\n",
    "                val_losses.append(val_loss.item())\n",
    "                \n",
    "                recall_batch.append(recall_k_seq(y_pred, y_val, k=10))\n",
    "#                 print(\"done\")\n",
    "#                 print(y_pred.shape)\n",
    "#                 print(y_val.shape)\n",
    "                ndcg_batch.append(ndcg_k_seq(y_pred, y_val))\n",
    "\n",
    "#             print(counter, np.mean(recall_batch).round(3), np.round(loss.item(), 4), np.mean(val_losses).round(4))\n",
    "            print(\"Epoch: \", counter)\n",
    "            print(\"Recall@10: \", np.mean(recall_batch).round(3))\n",
    "            print(\"NDCG: \", np.mean(ndcg_batch).round(3))\n",
    "            print(\"Train Loss: \", np.round(loss.item(), 4))\n",
    "            print(\"Val Loss: \", np.round(val_losses, 4))"
   ]
  },
  {
   "cell_type": "code",
   "execution_count": null,
   "id": "f0788862",
   "metadata": {},
   "outputs": [],
   "source": []
  },
  {
   "cell_type": "code",
   "execution_count": 25,
   "id": "3369979b",
   "metadata": {},
   "outputs": [
    {
     "data": {
      "text/plain": [
       "8586"
      ]
     },
     "execution_count": 25,
     "metadata": {},
     "output_type": "execute_result"
    }
   ],
   "source": [
    "import gc\n",
    "gc.collect()"
   ]
  },
  {
   "cell_type": "code",
   "execution_count": 26,
   "id": "18382cbb",
   "metadata": {},
   "outputs": [
    {
     "name": "stdout",
     "output_type": "stream",
     "text": [
      "Epoch:  98500\n",
      "Recall@10:  0.092\n",
      "NDCG:  0.138\n",
      "Train Loss:  3.92\n",
      "Val Loss:  [4.6728 4.6405 4.7094 4.798  4.7703 4.6332 4.7308 4.8353 4.6827 4.8238\n",
      " 4.2946 4.6055 4.6474 4.632  4.7355 4.7523 4.5849 4.5989 4.8591 4.7677\n",
      " 4.7396 4.6966 4.6024 4.6339 4.6872 4.5297 4.8695 4.6202 4.7405 4.6792\n",
      " 4.6016 4.8307 4.9578 4.7885 4.5176 4.5662 4.3075 4.8498 4.6536 4.9235\n",
      " 4.6923 4.8991 4.8624 4.8197 4.6336 4.7685 4.6627 4.9122 5.0828 4.6217\n",
      " 4.6903 4.6583 4.5473 4.7504 4.8575 4.9014 4.4955 4.9811 4.8286 4.4444\n",
      " 4.584  4.7305 4.5577 4.5488 4.589  4.651  4.8433 4.7886 4.5364 5.0141\n",
      " 4.7882 4.5102 4.6859 4.7054 4.7765 4.6968 4.4849 4.8468 4.666  4.5735\n",
      " 4.5979 4.7585 4.6788 4.8862 4.6489 4.6163 4.6726 4.7143 4.843  4.8543\n",
      " 4.5983 4.6586 4.7392 4.787  4.764  4.6393 4.7162 4.7799 4.7643 4.6617\n",
      " 4.6654 4.5783 4.7894 4.7173 4.1557 4.7219 4.8763 4.6991 4.7657 4.6006\n",
      " 4.6485 4.4606 4.6346 4.7261 4.5867 4.6432 4.643  4.7125 4.7216 4.8548\n",
      " 4.743  4.6442 4.5904 4.7911 4.8246 4.7503 4.626  4.5921 4.5727 4.5728\n",
      " 4.8836 4.7533 4.847  4.8518 4.7459 4.593  4.4494 4.6948 4.5453 4.7012\n",
      " 4.5062 4.85   4.6673 4.8417 5.0844 4.6899 4.6625 4.7232 4.6905 4.9514\n",
      " 4.504  4.5272 4.3643 4.8885 4.3758 4.6972 4.8009 4.8892 4.7582 4.8602\n",
      " 4.6177 4.743  4.4395 4.7571 4.4953 4.9435 4.6759 4.2897 4.9358 5.0011\n",
      " 4.7532 4.3296 4.7504 4.4895 5.2114 4.7758 4.6213 4.8364 4.7166 4.9037\n",
      " 4.4436 4.7375 4.7929 4.3338 4.8511 5.1076 4.536  4.5671 4.6695 4.3564\n",
      " 4.8077 4.5534 4.6753 4.5496 4.8352 4.5963 4.7909 4.9918 4.6086 4.4892\n",
      " 4.8555 5.0926 4.96   4.7377 5.2091 4.6465 4.7335 4.7855 4.8231 4.6454\n",
      " 4.6592 3.8312 4.7682 5.138  4.6939 4.7927 5.0903 4.442  5.1461 4.5394\n",
      " 4.6051 4.664  4.9041 4.6742 4.928  4.7299 4.9471 4.7199 4.2671 4.8139\n",
      " 4.504  4.9055 4.585  4.5849 4.5401 4.541  4.9787 4.8812 4.9313 4.73\n",
      " 4.2791 4.8089 4.8083 4.5541 4.4673 4.8673 4.6169 4.6736 4.7675 4.744\n",
      " 4.7277 4.3714 4.5384 4.7041 4.8025 5.0424 4.379  4.9072 4.9365 4.8823\n",
      " 4.6009 4.9804 4.6378 4.8706 4.6847 4.4725 4.7398 4.6673 4.9594 4.9192\n",
      " 4.3912 4.612  4.6896 4.5224 4.8125 4.6253 4.8973 4.6313 4.3935 4.7512\n",
      " 4.2679 4.8366 4.5925 4.8247 4.3209 4.2002 4.7446 4.6494 4.9206 4.7119\n",
      " 4.5884 4.7459 4.8282 4.5304 4.6362 4.8977 5.0866 4.6441 4.5274 4.8776\n",
      " 4.8382 4.6323 4.8455 4.7545 4.7367 4.7979 5.0106 4.6632 4.7542 4.6738\n",
      " 4.6366 4.3883 4.7529 4.7631 4.933  4.4897 4.5814 4.4625 4.8898 4.7002\n",
      " 4.2141 4.7327 4.4858 4.8887 5.0232 4.4854 4.7075 4.6031 4.7081 4.889\n",
      " 4.756  4.6894 4.6639 4.6713 5.0363 4.5944 4.8962 4.6184 4.8135 4.9336\n",
      " 4.6743 4.5701 4.5257 4.6526 4.5557 4.6194 4.703  4.7196 4.4802 4.3028\n",
      " 4.6494 5.0453 4.7958 4.7546 4.8645 4.1873 4.6432 4.8696 4.4894 4.3943\n",
      " 4.8931 4.7135 4.9846 4.5001 4.742  4.9413 4.6125 4.8667 4.7668 4.764\n",
      " 4.8561 4.4171 4.5693 4.5983 4.4965 4.7257 4.727  4.9906 4.4393 4.7246\n",
      " 4.6631 4.8604 4.71   4.5883 4.8778 4.5876 4.2958 4.7586 4.4687 4.5947\n",
      " 4.8616 4.8198 4.7478 5.0195 4.8414 4.4433 5.0287 4.8705 4.2746 5.1265\n",
      " 4.6764 4.9364 4.7295 4.9254 4.6061 4.9332 4.4277 4.704  4.8908 4.8573\n",
      " 4.7597 4.5039 4.7097 5.2076 4.7265 4.7421 4.475  4.751  4.9935 5.0027\n",
      " 5.1174 4.2189 4.844  4.7823 4.5665 4.601  4.8795 4.8739 4.7289 4.7674\n",
      " 4.6959 4.6319 4.63   4.927  4.5326 4.7785 4.9062 4.6368 4.9345 4.7191\n",
      " 4.6627 4.7626 4.7878 4.8735 4.696  4.5915 4.3263 4.7283 4.5705 4.7211\n",
      " 4.7659 4.9295 4.7093 4.9208 5.0143 4.6472 4.8577 4.5424 4.8702 4.7513\n",
      " 4.2586 4.9004 4.6535 4.5534 4.7119 4.4003 5.1563 4.4538 4.6641 4.4214\n",
      " 4.6119 4.9782 4.5979 4.3754 4.9452 4.9846 4.7837 4.2761 4.6797 5.0658\n",
      " 4.9567 4.5921 4.5261 4.7574 4.5396 4.9341 4.8871 4.9927 4.5964 4.7696\n",
      " 4.8075 4.5967 4.841  4.6174 4.8716 4.6056 4.8191 5.0248 4.5648 4.8744\n",
      " 4.7696 4.8636 5.0128 4.4762 4.8227 4.9565 4.7051 4.5607 4.4671 4.5132\n",
      " 4.5671 4.5983 4.4344 4.9109 5.0635 4.7282 4.8811 4.6542 4.2162 4.8937\n",
      " 4.1282 4.7581 4.6759 4.3786 4.9313 4.2405 4.7478 4.5458 4.4215 4.7759\n",
      " 4.8763 4.3599 4.8646 4.6693 4.8271 4.5164 4.9967 4.7665 4.8715]\n"
     ]
    }
   ],
   "source": [
    "test_dataset = ValidShiftedDataset(list(test.values()), max_length + 1, end_code)\n",
    "test_loader = torch.utils.data.DataLoader(test_dataset, batch_size=16, shuffle=True)\n",
    "\n",
    "recall_batch = []\n",
    "ndcg_batch = []\n",
    "recall_batch_last = []\n",
    "recall_batch_last_n = []\n",
    "ndcg_batch_last = []\n",
    "for X_val, y_val in test_loader:\n",
    "\n",
    "    X_val = X_val.to(device)\n",
    "    y_val = y_val.to(device)\n",
    "\n",
    "    y_pred = model.forward(X_val.long())\n",
    "\n",
    "    val_loss = loss_function(y_pred.view(-1, 3955), y_val.long().view(-1))\n",
    "    val_losses.append(val_loss.item())\n",
    "\n",
    "    recall_batch.append(recall_k_seq(y_pred, y_val, k=1))\n",
    "#                 print(y_pred.shape)\n",
    "#                 print(y_val.shape)\n",
    "    ndcg_batch.append(ndcg_k_seq(y_pred, y_val))\n",
    "    recall_batch_last.append(recall_k_seq_last(y_pred, y_val, k=1))\n",
    "    recall_batch_last_n.append(recall_k_seq_last(y_pred, y_val, k=10))\n",
    "    ndcg_batch_last.append(ndcg_k_seq_last(y_pred, y_val))\n",
    "\n",
    "#             print(counter, np.mean(recall_batch).round(3), np.round(loss.item(), 4), np.mean(val_losses).round(4))\n",
    "print(\"Epoch: \", counter)\n",
    "print(\"Recall@10: \", np.mean(recall_batch).round(3))\n",
    "print(\"NDCG: \", np.mean(ndcg_batch).round(3))\n",
    "print(\"Train Loss: \", np.round(loss.item(), 4))\n",
    "print(\"Val Loss: \", np.round(val_losses, 4))"
   ]
  },
  {
   "cell_type": "code",
   "execution_count": 27,
   "id": "1a7111f6",
   "metadata": {},
   "outputs": [
    {
     "name": "stdout",
     "output_type": "stream",
     "text": [
      "Epoch:  98500\n",
      "Recall@10:  0.294\n",
      "Recall@1:  0.086\n",
      "NDCG:  0.134\n"
     ]
    }
   ],
   "source": [
    "print(\"Epoch: \", counter)\n",
    "print(\"Recall@10: \", np.mean(recall_batch_last_n).round(3))\n",
    "print(\"Recall@1: \", np.mean(recall_batch_last).round(3))\n",
    "print(\"NDCG: \", np.mean(ndcg_batch_last).round(3))\n"
   ]
  },
  {
   "cell_type": "code",
   "execution_count": null,
   "id": "392697df",
   "metadata": {},
   "outputs": [],
   "source": [
    "Epoch:  98500\n",
    "Recall@10:  0.305\n",
    "NDCG:  0.138"
   ]
  },
  {
   "cell_type": "code",
   "execution_count": null,
   "id": "dbcc1034",
   "metadata": {},
   "outputs": [],
   "source": [
    "epochs = 15000\n",
    "for epoch in range(epochs):\n",
    "    for X, y in train_loader:\n",
    "\n",
    "        optimizer.zero_grad()\n",
    "        \n",
    "        X = X.to('cuda:0')\n",
    "        y = y.to('cuda:0')\n",
    "\n",
    "        loss = loss_function(model.forward(X).view(-1, 3955), y.view(-1))\n",
    "\n",
    "        losses.append(loss.item())\n",
    "        loss.backward()\n",
    "         \n",
    "        optimizer.step()\n",
    "        \n",
    "        counter += 1\n",
    "        if counter % 500 == 0:\n",
    "            val_losses = []\n",
    "            recall_batch = []\n",
    "            ndcg_batch = []\n",
    "            for X_val, y_val in val_loader:\n",
    "                \n",
    "                X_val = X_val.to('cuda:0')\n",
    "                y_val = y_val.to('cuda:0')\n",
    "                \n",
    "                y_pred = model.forward(X_val.long())[:, -1, :]\n",
    "                \n",
    "                val_loss = loss_function(y_pred.view(-1, 3955), y_val.long().view(-1))\n",
    "                val_losses.append(val_loss.item())\n",
    "                \n",
    "                recall_batch.append(recall_k(y_pred, y_val, k=10))\n",
    "#                 print(y_pred.shape)\n",
    "#                 print(y_val.shape)\n",
    "                ndcg_batch.append(ndcg_k(y_pred, y_val))\n",
    "\n",
    "#             print(counter, np.mean(recall_batch).round(3), np.round(loss.item(), 4), np.mean(val_losses).round(4))\n",
    "            print(\"Epoch: \", counter)\n",
    "            print(\"Recall@10: \", np.mean(recall_batch).round(3))\n",
    "            print(\"NDCG: \", np.mean(ndcg_batch).round(3))\n",
    "            print(\"Train Loss: \", np.round(loss.item(), 4))\n",
    "            print(\"Val Loss: \", np.round(val_losses, 4))"
   ]
  }
 ],
 "metadata": {
  "kernelspec": {
   "display_name": "Python 3 (ipykernel)",
   "language": "python",
   "name": "python3"
  },
  "language_info": {
   "codemirror_mode": {
    "name": "ipython",
    "version": 3
   },
   "file_extension": ".py",
   "mimetype": "text/x-python",
   "name": "python",
   "nbconvert_exporter": "python",
   "pygments_lexer": "ipython3",
   "version": "3.9.5"
  }
 },
 "nbformat": 4,
 "nbformat_minor": 5
}
